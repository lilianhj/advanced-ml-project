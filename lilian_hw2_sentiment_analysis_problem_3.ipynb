{
 "cells": [
  {
   "cell_type": "markdown",
   "metadata": {
    "colab_type": "text",
    "id": "QgzsCnlliNXS"
   },
   "source": [
    "# Homework 2 Problem 3 Sentiment Analysis with word-embeddings\n",
    "\n",
    "In this assignment we use a neural network for classifying movie reviews.  The neural network includes a word embedding layer.  \n",
    "\n",
    "For pre-processing the data we'll use the torchtext package of PyTorch.  All the torchtext code is already provided.  [Documentation](https://pytorch.org/text/) for torchtext is relatively sparse, but [Ben Trevett](https://github.com/bentrevett/pytorch-sentiment-analysis/blob/master/1%20-%20Simple%20Sentiment%20Analysis.ipynb) has a useful tutorial.\n",
    "\n",
    "You have to add missing code indicated by ##YOUR CODE HERE##.\n",
    "\n",
    "You can optionally run the notebook on [Google Colab](https://colab.research.google.com). To upload a notebook, choose the \"Files\" dropdown menu and then \"Upload.\"\n",
    "To use a GPU, choose Runtime > Change runtime type and select GPU."
   ]
  },
  {
   "cell_type": "markdown",
   "metadata": {
    "colab_type": "text",
    "collapsed": true,
    "id": "-cJuP5CtiNaC"
   },
   "source": [
    "We use torchtext to create vocabulary, and load datasets into batches."
   ]
  },
  {
   "cell_type": "code",
   "execution_count": 1,
   "metadata": {
    "colab": {},
    "colab_type": "code",
    "id": "j2cnpmGXiNaD"
   },
   "outputs": [],
   "source": [
    "import random\n",
    "import copy\n",
    "import torch\n",
    "import torch.nn as nn\n",
    "import torch.optim as optim\n",
    "import torch.nn.functional as F\n",
    "from torchtext import data\n",
    "SEED = 1234\n",
    "\n",
    "torch.manual_seed(SEED)\n",
    "torch.backends.cudnn.deterministic = True\n",
    "\n",
    "# We are using 'spacy' tokenizer. You can also write your own tokenizer. You can \n",
    "# download spacy from https://spacy.io/usage\n",
    "TEXT = data.Field(tokenize = 'spacy')\n",
    "LABEL = data.LabelField(dtype = torch.float)"
   ]
  },
  {
   "cell_type": "markdown",
   "metadata": {
    "colab_type": "text",
    "collapsed": true,
    "id": "nOdI97jqiNaH"
   },
   "source": [
    "Fortunately, torchtext has a convenient method to load the movie review dataset. Loading may take 10 to 15 minutes."
   ]
  },
  {
   "cell_type": "code",
   "execution_count": 2,
   "metadata": {
    "colab": {
     "base_uri": "https://localhost:8080/",
     "height": 51
    },
    "colab_type": "code",
    "id": "ml75oPv6iNaJ",
    "outputId": "b395a2cd-ca35-4465-dd8d-8158ff88a6b6"
   },
   "outputs": [],
   "source": [
    "from torchtext import datasets\n",
    "\n",
    "train_data, test_data = datasets.IMDB.splits(TEXT, LABEL)\n",
    "train_data, valid_data = train_data.split(random_state = random.seed(SEED))"
   ]
  },
  {
   "cell_type": "code",
   "execution_count": 3,
   "metadata": {
    "colab": {
     "base_uri": "https://localhost:8080/",
     "height": 68
    },
    "colab_type": "code",
    "id": "C8g5-uUbiNaQ",
    "outputId": "1c7c9910-ec18-4fbd-d5ea-e53db4db56f3"
   },
   "outputs": [
    {
     "name": "stdout",
     "output_type": "stream",
     "text": [
      "Number of training examples: 17500\n",
      "Number of testing examples: 25000\n",
      "Number of validation examples:25000\n"
     ]
    }
   ],
   "source": [
    "print(f'Number of training examples: {len(train_data)}')\n",
    "print(f'Number of testing examples: {len(test_data)}')\n",
    "print(f'Number of validation examples:{len(test_data)}')"
   ]
  },
  {
   "cell_type": "markdown",
   "metadata": {
    "colab_type": "text",
    "id": "iHAtG48oiNaW"
   },
   "source": [
    "Now we build our vocabulary/dictionary. We are only keeping 25,000 most common words."
   ]
  },
  {
   "cell_type": "code",
   "execution_count": 4,
   "metadata": {
    "colab": {},
    "colab_type": "code",
    "id": "JFFWaYsziNaX"
   },
   "outputs": [],
   "source": [
    "MAX_VOCAB_SIZE = 25000\n",
    "\n",
    "TEXT.build_vocab(train_data, max_size = MAX_VOCAB_SIZE)\n",
    "\n",
    "# If you want to use pretrained GloVe (https://nlp.stanford.edu/projects/glove/)\n",
    "# replace above code with the one below.\n",
    "# TEXT.build_vocab(train_data, \n",
    "#                 max_size = MAX_VOCAB_SIZE, \n",
    "#                 vectors = \"glove.6B.100d\", \n",
    "#                 unk_init = torch.Tensor.normal_)\n",
    "\n",
    "LABEL.build_vocab(train_data)"
   ]
  },
  {
   "cell_type": "markdown",
   "metadata": {
    "colab_type": "text",
    "id": "sxLQezmKiNad"
   },
   "source": [
    "Functions `itos` (int to string) and `stoi` map indices to words in the vocabulary."
   ]
  },
  {
   "cell_type": "code",
   "execution_count": 5,
   "metadata": {
    "colab": {
     "base_uri": "https://localhost:8080/",
     "height": 34
    },
    "colab_type": "code",
    "id": "INX-p_F5iNae",
    "outputId": "9742ba48-e7c4-4ea3-a661-b406736fdb9c"
   },
   "outputs": [
    {
     "name": "stdout",
     "output_type": "stream",
     "text": [
      "['<unk>', '<pad>', 'the', ',', '.', 'a', 'and', 'of', 'to', 'is']\n"
     ]
    }
   ],
   "source": [
    "print(TEXT.vocab.itos[:10])"
   ]
  },
  {
   "cell_type": "markdown",
   "metadata": {
    "colab_type": "text",
    "id": "xoxAGZzaiNai"
   },
   "source": [
    "Iterators construct batches of data for every iteration of mini-batch gradient descent. They also pad sentences to make sure all sentences in a batch have equal length, so that they can be processed in parallel."
   ]
  },
  {
   "cell_type": "code",
   "execution_count": 6,
   "metadata": {
    "colab": {},
    "colab_type": "code",
    "id": "wn-__tIFiNak"
   },
   "outputs": [],
   "source": [
    "BATCH_SIZE = 64\n",
    "\n",
    "device = torch.device('cuda' if torch.cuda.is_available() else 'cpu')\n",
    "\n",
    "train_iterator, valid_iterator, test_iterator = data.BucketIterator.splits(\n",
    "    (train_data, valid_data, test_data), \n",
    "    batch_size = BATCH_SIZE,\n",
    "    device = device)"
   ]
  },
  {
   "cell_type": "code",
   "execution_count": 8,
   "metadata": {
    "colab": {},
    "colab_type": "code",
    "id": "C6thdhypiNao"
   },
   "outputs": [],
   "source": [
    "def binary_accuracy(preds, y):\n",
    "    \"\"\"\n",
    "    Return accuracy per batch\n",
    "    \"\"\"\n",
    "\n",
    "    #round predictions to the closest integer\n",
    "    rounded_preds = torch.round(torch.sigmoid(preds))\n",
    "    correct = (rounded_preds == y).float() #convert into float for division \n",
    "    acc = correct.sum() / len(correct)\n",
    "    return acc\n",
    "\n"
   ]
  },
  {
   "cell_type": "markdown",
   "metadata": {
    "colab_type": "text",
    "id": "yJ6zV6SsiNar"
   },
   "source": [
    "The `class WordEmbAvg` defines our model:\n",
    "\n",
    "1. The input is a batch of sentences, padded if necessary to have equal lengths.  Each word in a sentence is simply its index corresponding to a one-hot encoding.\n",
    "\n",
    "2. The input first passes through an embedding layer which converts each word into a dense word vector.  A sentence is now represented by the mean of all its word vectors.  You may optionally want to read Robert Guthrie's [tutorial on embeddings](https://pytorch.org/tutorials/beginner/nlp/word_embeddings_tutorial.html).\n",
    "\n",
    "4. The input then passes through one or more neural network layers, which include a non-linearity such as ReLU.\n",
    "\n",
    "4. Since the output is binary, we use the binary cross entropy loss.\n"
   ]
  },
  {
   "cell_type": "markdown",
   "metadata": {},
   "source": [
    "### Note: I've made some modifications to the general class code in order to facilitate my open-ended improvements later."
   ]
  },
  {
   "cell_type": "code",
   "execution_count": 12,
   "metadata": {
    "colab": {},
    "colab_type": "code",
    "id": "GWyqWHbTiNat"
   },
   "outputs": [],
   "source": [
    "\n",
    "\n",
    "class WordEmbAvg(nn.Module):\n",
    "    def __init__(self, input_dim, embedding_dim, hidden_dim, output_dim, pad_idx, two_layers=True, dropout_p=0.0):\n",
    "        \n",
    "        super().__init__()\n",
    "        \n",
    "        # Define an embedding layer, a couple of linear layers, and \n",
    "        # the ReLU non-linearity.\n",
    "\n",
    "        ##YOUR CODE HERE##\n",
    "        self.embedding = nn.Embedding(input_dim, embedding_dim)\n",
    "        if two_layers == True:\n",
    "            self.linear1 = nn.Linear(embedding_dim, hidden_dim)\n",
    "            self.linear2 = nn.Linear(hidden_dim, output_dim) \n",
    "        else:\n",
    "            self.linear1 = nn.Linear(embedding_dim, output_dim)\n",
    "            self.linear2 = None\n",
    "        self.relu = nn.ReLU()\n",
    "        self.drop_layer = nn.Dropout(p=dropout_p)\n",
    "\n",
    "        \n",
    "        \n",
    "    def forward(self, text):\n",
    "\n",
    "        ##YOUR CODE HERE##\n",
    "        embedded = self.embedding(text)\n",
    "        embedded = embedded.mean(0)\n",
    "        if not self.linear2:\n",
    "            linear1_output = self.linear1(embedded)\n",
    "            output = self.relu(linear1_output)\n",
    "            output = self.drop_layer(output)\n",
    "            return output\n",
    "        else:\n",
    "            linear1_output = self.linear1(embedded)\n",
    "            linear2_input = self.relu(linear1_output)\n",
    "            output = self.linear2(linear2_input)\n",
    "            output = self.drop_layer(output)\n",
    "            return output\n",
    "    \n",
    "    \n"
   ]
  },
  {
   "cell_type": "code",
   "execution_count": 13,
   "metadata": {
    "colab": {},
    "colab_type": "code",
    "id": "YD1Y0axriNa3"
   },
   "outputs": [],
   "source": [
    "class Training_module( ):\n",
    "\n",
    "    def __init__(self, model):\n",
    "        self.model = model\n",
    "        self.loss_fn = nn.BCEWithLogitsLoss()\n",
    "        ##YOUR CODE HERE##\n",
    "        # Choose an optimizer. optim.Adam is a popular choice\n",
    "        self.optimizer = optim.Adam(self.model.parameters(), lr=1e-3)\n",
    "    \n",
    "    def train_epoch(self, iterator):\n",
    "        '''\n",
    "        Train the model for one epoch. For this repeat the following, \n",
    "        going through all training examples.\n",
    "        1. Get the next batch of inputs from the iterator.\n",
    "        2. Determine the predictions using a forward pass.\n",
    "        3. Compute the loss.\n",
    "        4. Compute gradients using a backward pass.\n",
    "        5. Execute one step of the optimizer to update the model paramters.\n",
    "        '''\n",
    "        epoch_loss = 0\n",
    "        epoch_acc = 0\n",
    "    \n",
    "        for batch in iterator:\n",
    "          # batch.text has the texts and batch.label has the labels.\n",
    "        \n",
    "            self.optimizer.zero_grad()\n",
    "                \n",
    "            ##YOUR CODE HERE##\n",
    "            \n",
    "            predictions = self.model(batch.text).squeeze(1)\n",
    "            loss = self.loss_fn(predictions, batch.label)\n",
    "            accuracy = binary_accuracy(predictions, batch.label)\n",
    "        \n",
    "            loss.backward()\n",
    "            self.optimizer.step()\n",
    "            epoch_loss += loss.item()\n",
    "            epoch_acc += accuracy.item()\n",
    "        \n",
    "        return epoch_loss / len(iterator), epoch_acc / len(iterator)\n",
    "    \n",
    "    def train_model(self, train_iterator, dev_iterator, num_epochs=5):\n",
    "        \"\"\"\n",
    "        Train the model for multiple epochs, and after each evaluate on the\n",
    "        development set.  Return the best performing model.\n",
    "        \"\"\"  \n",
    "        dev_accs = [0.]\n",
    "        for epoch in range(num_epochs):\n",
    "            self.train_epoch(train_iterator)\n",
    "            dev_acc = self.evaluate(dev_iterator)\n",
    "            print(f\"Epoch {epoch}: Dev Accuracy: {dev_acc[1]} Dev Loss:{dev_acc[0]}\")\n",
    "            if dev_acc[1] > max(dev_accs):\n",
    "                best_model = copy.deepcopy(self)\n",
    "            dev_accs.append(dev_acc[1])\n",
    "        return best_model.model\n",
    "                \n",
    "    def evaluate(self, iterator):\n",
    "        '''\n",
    "        Evaluate the performance of the model on the given examples.\n",
    "        '''\n",
    "        epoch_loss = 0\n",
    "        epoch_acc = 0\n",
    "    \n",
    "        with torch.no_grad():\n",
    "    \n",
    "            for batch in iterator:\n",
    "                \n",
    "                predictions = self.model(batch.text).squeeze(1)\n",
    "            \n",
    "                loss = self.loss_fn(predictions, batch.label)\n",
    "            \n",
    "                acc = binary_accuracy(predictions, batch.label)\n",
    "        \n",
    "                epoch_loss += loss.item()\n",
    "                epoch_acc += acc.item()\n",
    "        \n",
    "        return epoch_loss / len(iterator), epoch_acc / len(iterator)\n",
    "    \n",
    "    \n",
    "        "
   ]
  },
  {
   "cell_type": "code",
   "execution_count": 14,
   "metadata": {
    "colab": {},
    "colab_type": "code",
    "id": "YeyrD4wKiNa6"
   },
   "outputs": [],
   "source": [
    "INPUT_DIM = len(TEXT.vocab)\n",
    "#You can try many different embedding dimensions. Common values are 20, 32, 64, 100, 128, 512\n",
    "EMBEDDING_DIM = 100\n",
    "HIDDEN_DIM = 50\n",
    "OUTPUT_DIM = 1\n",
    "#Get the index of the pad token using the stoi function\n",
    "PAD_IDX = TEXT.vocab.stoi[TEXT.pad_token]\n",
    "\n",
    "\n",
    "model = WordEmbAvg(INPUT_DIM, EMBEDDING_DIM, HIDDEN_DIM, OUTPUT_DIM, PAD_IDX)\n",
    "\n",
    "# If you want to use pre-trained embeddings uncomment following\n",
    "# pretrained_embeddings = TEXT.vocab.vectors\n",
    "# model.embedding.weight.data.copy_(pretrained_embeddings)\n",
    "# UNK_IDX = TEXT.vocab.stoi[TEXT.unk_token]\n",
    "# model.embedding.weight.data[UNK_IDX] = torch.zeros(EMBEDDING_DIM)\n",
    "# model.embedding.weight.data[PAD_IDX] = torch.zeros(EMBEDDING_DIM)"
   ]
  },
  {
   "cell_type": "code",
   "execution_count": 15,
   "metadata": {
    "colab": {
     "base_uri": "https://localhost:8080/",
     "height": 102
    },
    "colab_type": "code",
    "id": "3lOyhJl0iNa9",
    "outputId": "4f28d6b4-56a5-4723-8ea0-2dc7194b0ebe",
    "scrolled": true
   },
   "outputs": [
    {
     "name": "stdout",
     "output_type": "stream",
     "text": [
      "Epoch 0: Dev Accuracy: 0.7074505651401262 Dev Loss:0.6477360260688653\n",
      "Epoch 1: Dev Accuracy: 0.771583686440678 Dev Loss:0.49885147456395423\n",
      "Epoch 2: Dev Accuracy: 0.8253001414113126 Dev Loss:0.45554294525566746\n",
      "Epoch 3: Dev Accuracy: 0.854740466101695 Dev Loss:0.4318647619526265\n",
      "Epoch 4: Dev Accuracy: 0.8686882060463146 Dev Loss:0.4392612533549131\n"
     ]
    }
   ],
   "source": [
    "model = model.to(device)\n",
    "tm = Training_module(model)\n",
    "\n",
    "#Training the model\n",
    "best_model = tm.train_model(train_iterator, valid_iterator)"
   ]
  },
  {
   "cell_type": "code",
   "execution_count": 16,
   "metadata": {
    "colab": {
     "base_uri": "https://localhost:8080/",
     "height": 34
    },
    "colab_type": "code",
    "id": "9-DaC-kWiNbB",
    "outputId": "e09124aa-64c3-453a-a225-c9491f25f1ef",
    "scrolled": true
   },
   "outputs": [
    {
     "name": "stdout",
     "output_type": "stream",
     "text": [
      "Test Loss: 0.476 | Test Acc: 85.83%\n"
     ]
    }
   ],
   "source": [
    "# Determine accuracy of best model. You should obtain a test accuracy \n",
    "# well above 80%.\n",
    "tm.model = best_model\n",
    "test_loss, test_acc = tm.evaluate(test_iterator)\n",
    "print(f'Test Loss: {test_loss:.3f} | Test Acc: {test_acc*100:.2f}%')"
   ]
  },
  {
   "cell_type": "markdown",
   "metadata": {
    "colab_type": "text",
    "id": "s5VFreO7iNbH"
   },
   "source": [
    "During training the embeddings are also trained.  Compute the norms of the final word vectors and list the 10 words with highest norm values and 10 with the lowest. Analyze your results."
   ]
  },
  {
   "cell_type": "code",
   "execution_count": 17,
   "metadata": {
    "colab": {
     "base_uri": "https://localhost:8080/",
     "height": 51
    },
    "colab_type": "code",
    "id": "bDoBKIekKXi9",
    "outputId": "44f61816-1f01-46a2-d7d5-d686d9951913"
   },
   "outputs": [
    {
     "data": {
      "text/plain": [
       "tensor([10.1980,  9.8359, 10.7522,  ..., 11.0455, 10.2977, 10.3934])"
      ]
     },
     "execution_count": 17,
     "metadata": {},
     "output_type": "execute_result"
    }
   ],
   "source": [
    "##YOUR CODE HERE###\n",
    "\n",
    "norms = torch.norm(best_model.embedding.weight, p=2, dim=1, keepdim=True).data.squeeze()\n",
    "norms"
   ]
  },
  {
   "cell_type": "code",
   "execution_count": 18,
   "metadata": {
    "colab": {},
    "colab_type": "code",
    "id": "GQoyBqk89SlK"
   },
   "outputs": [],
   "source": [
    "highest_10 = norms.argsort()[-10:]"
   ]
  },
  {
   "cell_type": "code",
   "execution_count": 21,
   "metadata": {
    "colab": {
     "base_uri": "https://localhost:8080/",
     "height": 187
    },
    "colab_type": "code",
    "id": "ycWVWmh89SlX",
    "outputId": "14ecbd48-564b-41c1-8356-056fa86dea6c"
   },
   "outputs": [
    {
     "name": "stdout",
     "output_type": "stream",
     "text": [
      "great\n",
      "excellent\n",
      "horrible\n",
      "lame\n",
      "terrible\n",
      "waste\n",
      "awful\n",
      "boring\n",
      "worst\n",
      "bad\n"
     ]
    }
   ],
   "source": [
    "for i in highest_10:\n",
    "    print(TEXT.vocab.itos[i])"
   ]
  },
  {
   "cell_type": "markdown",
   "metadata": {},
   "source": [
    "The 10 words with highest norm values all convey strong connotations of quality (e.g. \"excellent\", \"horrible\") or emotional reaction (e.g. \"boring\", \"lame\"). It thus makes sense that these words have substantial weight in determining the sentiment of a review."
   ]
  },
  {
   "cell_type": "code",
   "execution_count": 22,
   "metadata": {
    "colab": {},
    "colab_type": "code",
    "id": "aH-6zdT79Slb"
   },
   "outputs": [],
   "source": [
    "lowest_10 = norms.argsort()[:10]"
   ]
  },
  {
   "cell_type": "code",
   "execution_count": 25,
   "metadata": {
    "colab": {
     "base_uri": "https://localhost:8080/",
     "height": 187
    },
    "colab_type": "code",
    "id": "3znOUNRR9Sll",
    "outputId": "c5934412-9517-4a07-a9e9-ae09a310db9e"
   },
   "outputs": [
    {
     "name": "stdout",
     "output_type": "stream",
     "text": [
      "Benedict\n",
      "EUROPA\n",
      "musician\n",
      "superstar\n",
      "misrepresentation\n",
      "Eaters\n",
      "Stephens\n",
      "specialized\n",
      "Hilary\n",
      "Blooded\n"
     ]
    }
   ],
   "source": [
    "for i in lowest_10:\n",
    "    print(TEXT.vocab.itos[i])"
   ]
  },
  {
   "cell_type": "markdown",
   "metadata": {},
   "source": [
    "The 10 words with lowest norm values all seem essentially random (e.g. \"Benedict\", \"EUROPA\"), are mostly nouns, and do not convey much information about the reviewer's emotional reaction to the movie or their assessment of the movie's quality. It thus makes sense that these words have little weight in determining the sentiment of a review."
   ]
  },
  {
   "cell_type": "markdown",
   "metadata": {
    "colab_type": "text",
    "id": "LBjB6jy9iNbH"
   },
   "source": [
    "## Open ended improvements\n",
    "\n",
    "Experiment with some improvements such as---\n",
    "- increasing number of training epochs\n",
    "- using pre-trained embeddings\n",
    "- using different optimizers\n",
    "- increasing number of layers\n",
    "- using different non-linearities\n",
    "- adding drop outs\n",
    "- changing number of embedding/hidden dimensions\n",
    "\n",
    "Describe what you did, what results you obtained, and what you have learned from it.\n",
    "\n",
    "\n"
   ]
  },
  {
   "cell_type": "markdown",
   "metadata": {
    "colab_type": "text",
    "id": "eGaPwVRQ9Slo"
   },
   "source": [
    "### Varying training epochs"
   ]
  },
  {
   "cell_type": "markdown",
   "metadata": {},
   "source": [
    "I varied the number of training epochs, and found that test accuracy increases with the number of training epochs. I thus learned that having a higher number of training epochs is better if possible."
   ]
  },
  {
   "cell_type": "code",
   "execution_count": 23,
   "metadata": {
    "colab": {
     "base_uri": "https://localhost:8080/",
     "height": 442
    },
    "colab_type": "code",
    "id": "xJW-5AZe9Slp",
    "outputId": "85b91d04-8399-409a-b548-e59202e6da51"
   },
   "outputs": [
    {
     "name": "stdout",
     "output_type": "stream",
     "text": [
      "Number of epochs: 2\n",
      "Epoch 0: Dev Accuracy: 0.6847634184158454 Dev Loss:0.6546682629544857\n",
      "Epoch 1: Dev Accuracy: 0.7474841101694916 Dev Loss:0.5319508692975772\n",
      "Test Loss: 0.539 | Test Acc: 74.10%\n",
      "Number of epochs: 7\n",
      "Epoch 0: Dev Accuracy: 0.627780720338983 Dev Loss:0.6688318939532264\n",
      "Epoch 1: Dev Accuracy: 0.7421433617502956 Dev Loss:0.5229855851601746\n",
      "Epoch 2: Dev Accuracy: 0.8114406779661016 Dev Loss:0.4500384816931466\n",
      "Epoch 3: Dev Accuracy: 0.8498411016949152 Dev Loss:0.4272268547723859\n",
      "Epoch 4: Dev Accuracy: 0.8659957627118644 Dev Loss:0.43339237280316273\n",
      "Epoch 5: Dev Accuracy: 0.8757944915254238 Dev Loss:0.4555735600701833\n",
      "Epoch 6: Dev Accuracy: 0.8807379946870318 Dev Loss:0.46121951186303367\n",
      "Test Loss: 0.499 | Test Acc: 86.84%\n",
      "Number of epochs: 10\n",
      "Epoch 0: Dev Accuracy: 0.5963983050847458 Dev Loss:0.6632749519105685\n",
      "Epoch 1: Dev Accuracy: 0.7505737997717776 Dev Loss:0.5064906733015836\n",
      "Epoch 2: Dev Accuracy: 0.8072916668350414 Dev Loss:0.46505146069546877\n",
      "Epoch 3: Dev Accuracy: 0.8495762711864406 Dev Loss:0.43222259237604627\n",
      "Epoch 4: Dev Accuracy: 0.864009533898305 Dev Loss:0.428984107481221\n",
      "Epoch 5: Dev Accuracy: 0.8738082627118644 Dev Loss:0.43493220759397844\n",
      "Epoch 6: Dev Accuracy: 0.880031779661017 Dev Loss:0.44476996658969736\n",
      "Epoch 7: Dev Accuracy: 0.8841807912972014 Dev Loss:0.45243731482049165\n",
      "Epoch 8: Dev Accuracy: 0.88815324892432 Dev Loss:0.4629918615949356\n",
      "Epoch 9: Dev Accuracy: 0.8898746472294048 Dev Loss:0.48101899903899026\n",
      "Test Loss: 0.535 | Test Acc: 87.85%\n"
     ]
    }
   ],
   "source": [
    "for epoch_num in [2, 7, 10]:\n",
    "    print(f'Number of epochs: {epoch_num}')\n",
    "    model = WordEmbAvg(INPUT_DIM, EMBEDDING_DIM, HIDDEN_DIM, OUTPUT_DIM, PAD_IDX)\n",
    "    model = model.to(device)\n",
    "    tm = Training_module(model)\n",
    "    epoch_model = tm.train_model(train_iterator, valid_iterator, epoch_num)\n",
    "    tm.model = epoch_model\n",
    "    test_loss, test_acc = tm.evaluate(test_iterator)\n",
    "    print(f'Test Loss: {test_loss:.3f} | Test Acc: {test_acc*100:.2f}%')"
   ]
  },
  {
   "cell_type": "markdown",
   "metadata": {
    "colab_type": "text",
    "id": "BzkEKPXb9Slr"
   },
   "source": [
    "### Pre-trained embeddings"
   ]
  },
  {
   "cell_type": "markdown",
   "metadata": {},
   "source": [
    "I used pre-trained GloVe embeddings, and while test accuracy was still high, the 10 words with highest norm turned out to be much less meaningful than the embeddings which were trained with the model. While some of the words were still meaningful (e.g. \"worst\", \"awful\", \"waste\"), many others were not helpful for discerning review sentiment (e.g. \"Pikachu\" and \"BLUE\"). This suggests that using pre-trained embeddings is not always ideal, because they are less sensitive to the specific context of the data."
   ]
  },
  {
   "cell_type": "code",
   "execution_count": 24,
   "metadata": {
    "colab": {
     "base_uri": "https://localhost:8080/",
     "height": 51
    },
    "colab_type": "code",
    "id": "fJyu49x2CV-L",
    "outputId": "69145e3f-c9c0-403e-eefa-0a45e4336349"
   },
   "outputs": [
    {
     "name": "stderr",
     "output_type": "stream",
     "text": [
      ".vector_cache/glove.6B.zip: 862MB [06:28, 2.22MB/s]                           \n",
      "100%|█████████▉| 399918/400000 [00:18<00:00, 26674.92it/s]"
     ]
    }
   ],
   "source": [
    "TEXT.build_vocab(train_data, \n",
    "                max_size = MAX_VOCAB_SIZE, \n",
    "                vectors = \"glove.6B.100d\", \n",
    "                unk_init = torch.Tensor.normal_)\n",
    "\n",
    "LABEL.build_vocab(train_data)"
   ]
  },
  {
   "cell_type": "code",
   "execution_count": 0,
   "metadata": {
    "colab": {},
    "colab_type": "code",
    "id": "HEdSbkWd9Sls"
   },
   "outputs": [],
   "source": [
    "model = WordEmbAvg(INPUT_DIM, EMBEDDING_DIM, HIDDEN_DIM, OUTPUT_DIM, PAD_IDX)\n",
    "\n",
    "pretrained_embeddings = TEXT.vocab.vectors\n",
    "model.embedding.weight.data.copy_(pretrained_embeddings)\n",
    "UNK_IDX = TEXT.vocab.stoi[TEXT.unk_token]\n",
    "model.embedding.weight.data[UNK_IDX] = torch.zeros(EMBEDDING_DIM)\n",
    "model.embedding.weight.data[PAD_IDX] = torch.zeros(EMBEDDING_DIM)"
   ]
  },
  {
   "cell_type": "code",
   "execution_count": 0,
   "metadata": {
    "colab": {},
    "colab_type": "code",
    "id": "DAhcUG3EELqX"
   },
   "outputs": [],
   "source": [
    "model = model.to(device)\n",
    "tm = Training_module(model)"
   ]
  },
  {
   "cell_type": "code",
   "execution_count": 0,
   "metadata": {
    "colab": {
     "base_uri": "https://localhost:8080/",
     "height": 102
    },
    "colab_type": "code",
    "id": "JoaujcX9EfYw",
    "outputId": "00a6008a-f1c9-4b4a-a411-cda8acd52407"
   },
   "outputs": [
    {
     "name": "stdout",
     "output_type": "stream",
     "text": [
      "Epoch 0: Dev Accuracy: 0.7459392658734726 Dev Loss:0.5555016847990327\n",
      "Epoch 1: Dev Accuracy: 0.8579184322033898 Dev Loss:0.4907523751637693\n",
      "Epoch 2: Dev Accuracy: 0.8799435031616082 Dev Loss:0.5484272344827147\n",
      "Epoch 3: Dev Accuracy: 0.8906691387548284 Dev Loss:0.5707008521056781\n",
      "Epoch 4: Dev Accuracy: 0.8910663845175404 Dev Loss:0.6512995676721557\n"
     ]
    }
   ],
   "source": [
    "embed_model = tm.train_model(train_iterator, valid_iterator)"
   ]
  },
  {
   "cell_type": "code",
   "execution_count": 0,
   "metadata": {
    "colab": {
     "base_uri": "https://localhost:8080/",
     "height": 34
    },
    "colab_type": "code",
    "id": "pwFHfAKUEsDE",
    "outputId": "21e7327a-2763-45c4-ce62-952b29ecba1d"
   },
   "outputs": [
    {
     "name": "stdout",
     "output_type": "stream",
     "text": [
      "Test Loss: 0.715 | Test Acc: 87.81%\n"
     ]
    }
   ],
   "source": [
    "tm.model = embed_model\n",
    "test_loss, test_acc = tm.evaluate(test_iterator)\n",
    "print(f'Test Loss: {test_loss:.3f} | Test Acc: {test_acc*100:.2f}%')"
   ]
  },
  {
   "cell_type": "code",
   "execution_count": 0,
   "metadata": {
    "colab": {},
    "colab_type": "code",
    "id": "AYrtYB7MEuRG"
   },
   "outputs": [],
   "source": [
    "norms = torch.norm(embed_model.embedding.weight, p=2, dim=1, keepdim=True).data.squeeze()"
   ]
  },
  {
   "cell_type": "code",
   "execution_count": 0,
   "metadata": {
    "colab": {
     "base_uri": "https://localhost:8080/",
     "height": 187
    },
    "colab_type": "code",
    "id": "BQtQrEeNE2YC",
    "outputId": "b806f08f-e1d4-4327-a334-4f22dfbfe5ba"
   },
   "outputs": [
    {
     "name": "stdout",
     "output_type": "stream",
     "text": [
      "BLUE\n",
      "Bugs\n",
      "Dangerfield\n",
      "/>1\n",
      "Boo\n",
      "awful\n",
      "Jud\n",
      "Pikachu\n",
      "waste\n",
      "worst\n"
     ]
    }
   ],
   "source": [
    "highest_10 = norms.argsort()[-10:]\n",
    "for i in highest_10:\n",
    "    print(TEXT.vocab.itos[i])"
   ]
  },
  {
   "cell_type": "code",
   "execution_count": 0,
   "metadata": {
    "colab": {
     "base_uri": "https://localhost:8080/",
     "height": 187
    },
    "colab_type": "code",
    "id": "PkSgt4CaE73d",
    "outputId": "ebd0b9a4-edf1-496a-b1b8-0f1b4b2988b0"
   },
   "outputs": [
    {
     "name": "stdout",
     "output_type": "stream",
     "text": [
      "<pad>\n",
      "<unk>\n",
      "lastly\n",
      "i.e\n",
      "incidentally\n",
      "cuties\n",
      "scariness\n",
      "hehe\n",
      "coincidentally\n",
      "interestingly\n"
     ]
    }
   ],
   "source": [
    "lowest_10 = norms.argsort()[:10]\n",
    "for i in lowest_10:\n",
    "    print(TEXT.vocab.itos[i])"
   ]
  },
  {
   "cell_type": "markdown",
   "metadata": {
    "colab_type": "text",
    "id": "1AtWHQq_9Slx"
   },
   "source": [
    "### Optimizers"
   ]
  },
  {
   "cell_type": "markdown",
   "metadata": {},
   "source": [
    "I varied the optimizers used for training; I tried out SGD and Adagrad. Both of them yielded substantially lower test accuracy than the suggested Adam optimizer. However, given the variety of optimizers available, it is not likely that Adam is the best optimizer in every case; this seems like an indication that I should test out various optimizers and that no single optimizer is automatically the best for every case."
   ]
  },
  {
   "cell_type": "code",
   "execution_count": 0,
   "metadata": {
    "colab": {
     "base_uri": "https://localhost:8080/",
     "height": 119
    },
    "colab_type": "code",
    "id": "Yku883KZIy9R",
    "outputId": "a1596db0-6515-4bc9-89ef-e8b79326269a"
   },
   "outputs": [
    {
     "name": "stdout",
     "output_type": "stream",
     "text": [
      "Epoch 0: Dev Accuracy: 0.554996469263303 Dev Loss:0.6917192198462405\n",
      "Epoch 1: Dev Accuracy: 0.548110876042964 Dev Loss:0.6916645174309358\n",
      "Epoch 2: Dev Accuracy: 0.5427259888689396 Dev Loss:0.6916403305732598\n",
      "Epoch 3: Dev Accuracy: 0.541843220338983 Dev Loss:0.6916252682774754\n",
      "Epoch 4: Dev Accuracy: 0.5398569915254238 Dev Loss:0.6916107707104441\n",
      "Test Loss: 0.692 | Test Acc: 54.89%\n"
     ]
    }
   ],
   "source": [
    "model = WordEmbAvg(INPUT_DIM, EMBEDDING_DIM, HIDDEN_DIM, OUTPUT_DIM, PAD_IDX)\n",
    "model = model.to(device)\n",
    "tm = Training_module(model)\n",
    "tm.optimizer = optim.SGD(tm.model.parameters(), lr=1e-3)\n",
    "optim_model = tm.train_model(train_iterator, valid_iterator)\n",
    "tm.model = optim_model\n",
    "test_loss, test_acc = tm.evaluate(test_iterator)\n",
    "print(f'Test Loss: {test_loss:.3f} | Test Acc: {test_acc*100:.2f}%')"
   ]
  },
  {
   "cell_type": "code",
   "execution_count": 0,
   "metadata": {
    "colab": {
     "base_uri": "https://localhost:8080/",
     "height": 119
    },
    "colab_type": "code",
    "id": "erTF5oSnLbf6",
    "outputId": "602eba22-7102-4b34-e47a-f96e770b6a76"
   },
   "outputs": [
    {
     "name": "stdout",
     "output_type": "stream",
     "text": [
      "Epoch 0: Dev Accuracy: 0.4920550847457627 Dev Loss:0.693897148815252\n",
      "Epoch 1: Dev Accuracy: 0.4921875 Dev Loss:0.6930469436160589\n",
      "Epoch 2: Dev Accuracy: 0.4927171610169492 Dev Loss:0.6923265138925132\n",
      "Epoch 3: Dev Accuracy: 0.4949682203389831 Dev Loss:0.6916322248466944\n",
      "Epoch 4: Dev Accuracy: 0.5033103813559322 Dev Loss:0.6909905909481695\n",
      "Test Loss: 0.690 | Test Acc: 51.35%\n"
     ]
    }
   ],
   "source": [
    "model = WordEmbAvg(INPUT_DIM, EMBEDDING_DIM, HIDDEN_DIM, OUTPUT_DIM, PAD_IDX)\n",
    "model = model.to(device)\n",
    "tm = Training_module(model)\n",
    "tm.optimizer = optim.Adagrad(tm.model.parameters(), lr=1e-3)\n",
    "optim_model = tm.train_model(train_iterator, valid_iterator)\n",
    "tm.model = optim_model\n",
    "test_loss, test_acc = tm.evaluate(test_iterator)\n",
    "print(f'Test Loss: {test_loss:.3f} | Test Acc: {test_acc*100:.2f}%')"
   ]
  },
  {
   "cell_type": "markdown",
   "metadata": {
    "colab_type": "text",
    "id": "DryorxVB9Sly"
   },
   "source": [
    "### Non-linearities"
   ]
  },
  {
   "cell_type": "markdown",
   "metadata": {},
   "source": [
    "I tried out different non-linearities for the model, specifically tanh and sigmoid functions. These led to variations in test accuracy, but it remained high (above 80%). Again, this indicates that it may be worth testing out various non-linearities, and no single one is automatically the best in every case."
   ]
  },
  {
   "cell_type": "code",
   "execution_count": 0,
   "metadata": {
    "colab": {
     "base_uri": "https://localhost:8080/",
     "height": 119
    },
    "colab_type": "code",
    "id": "EQ8LB0J3O0oa",
    "outputId": "8d1e14fa-6617-4bf5-cf32-1f8ccfeff6f6"
   },
   "outputs": [
    {
     "name": "stdout",
     "output_type": "stream",
     "text": [
      "Epoch 0: Dev Accuracy: 0.597545904123177 Dev Loss:0.6596137563050803\n",
      "Epoch 1: Dev Accuracy: 0.7564883474576272 Dev Loss:0.5833031421495696\n",
      "Epoch 2: Dev Accuracy: 0.8306408898305084 Dev Loss:0.6003537809444686\n",
      "Epoch 3: Dev Accuracy: 0.8599046610169492 Dev Loss:0.5965881591378632\n",
      "Epoch 4: Dev Accuracy: 0.8735875709582184 Dev Loss:0.6144532627599725\n",
      "Test Loss: 0.667 | Test Acc: 86.05%\n"
     ]
    }
   ],
   "source": [
    "model = WordEmbAvg(INPUT_DIM, EMBEDDING_DIM, HIDDEN_DIM, OUTPUT_DIM, PAD_IDX)\n",
    "model.relu = nn.Tanh()\n",
    "model = model.to(device)\n",
    "tm = Training_module(model)\n",
    "nonlinear_model = tm.train_model(train_iterator, valid_iterator)\n",
    "tm.model = nonlinear_model\n",
    "test_loss, test_acc = tm.evaluate(test_iterator)\n",
    "print(f'Test Loss: {test_loss:.3f} | Test Acc: {test_acc*100:.2f}%')"
   ]
  },
  {
   "cell_type": "code",
   "execution_count": 0,
   "metadata": {
    "colab": {
     "base_uri": "https://localhost:8080/",
     "height": 119
    },
    "colab_type": "code",
    "id": "n04IHBqAP1tG",
    "outputId": "8baec083-bc00-4b76-ccec-e4e1771e1a21"
   },
   "outputs": [
    {
     "name": "stdout",
     "output_type": "stream",
     "text": [
      "Epoch 0: Dev Accuracy: 0.5451536016949152 Dev Loss:0.6812719041008061\n",
      "Epoch 1: Dev Accuracy: 0.6897510593220338 Dev Loss:0.6177405432119207\n",
      "Epoch 2: Dev Accuracy: 0.7408192092079228 Dev Loss:0.5235073142132517\n",
      "Epoch 3: Dev Accuracy: 0.7943149719197872 Dev Loss:0.5128692675192478\n",
      "Epoch 4: Dev Accuracy: 0.832229872881356 Dev Loss:0.49679571983672804\n",
      "Test Loss: 0.521 | Test Acc: 82.48%\n"
     ]
    }
   ],
   "source": [
    "model = WordEmbAvg(INPUT_DIM, EMBEDDING_DIM, HIDDEN_DIM, OUTPUT_DIM, PAD_IDX)\n",
    "model.relu = nn.Sigmoid()\n",
    "model = model.to(device)\n",
    "tm = Training_module(model)\n",
    "nonlinear_model = tm.train_model(train_iterator, valid_iterator)\n",
    "tm.model = nonlinear_model\n",
    "test_loss, test_acc = tm.evaluate(test_iterator)\n",
    "print(f'Test Loss: {test_loss:.3f} | Test Acc: {test_acc*100:.2f}%')"
   ]
  },
  {
   "cell_type": "markdown",
   "metadata": {
    "colab_type": "text",
    "id": "9dD1mu8C9Sl4"
   },
   "source": [
    "### Number of layers"
   ]
  },
  {
   "cell_type": "markdown",
   "metadata": {},
   "source": [
    "I tried out having one neural network layer instead of two. This lowered the test accuracy below 80%, suggesting that it is preferable to have more layers, or at least more than a single layer."
   ]
  },
  {
   "cell_type": "code",
   "execution_count": 0,
   "metadata": {
    "colab": {
     "base_uri": "https://localhost:8080/",
     "height": 119
    },
    "colab_type": "code",
    "id": "HdryFfCSQEQ8",
    "outputId": "f946edee-1d95-4a9a-e844-ff95815807ce"
   },
   "outputs": [
    {
     "name": "stdout",
     "output_type": "stream",
     "text": [
      "Epoch 0: Dev Accuracy: 0.5144332627118644 Dev Loss:0.6853451602539774\n",
      "Epoch 1: Dev Accuracy: 0.6655190677966102 Dev Loss:0.6520211984545498\n",
      "Epoch 2: Dev Accuracy: 0.7319473871740244 Dev Loss:0.6150273604918335\n",
      "Epoch 3: Dev Accuracy: 0.7580331922587702 Dev Loss:0.5814293021872893\n",
      "Epoch 4: Dev Accuracy: 0.7898569915254238 Dev Loss:0.555798538660599\n",
      "Test Loss: 0.563 | Test Acc: 78.51%\n"
     ]
    }
   ],
   "source": [
    "model = WordEmbAvg(INPUT_DIM, EMBEDDING_DIM, HIDDEN_DIM, OUTPUT_DIM, PAD_IDX, two_layers=False)\n",
    "model = model.to(device)\n",
    "tm = Training_module(model)\n",
    "onelayer_model = tm.train_model(train_iterator, valid_iterator)\n",
    "tm.model = onelayer_model\n",
    "test_loss, test_acc = tm.evaluate(test_iterator)\n",
    "print(f'Test Loss: {test_loss:.3f} | Test Acc: {test_acc*100:.2f}%')"
   ]
  },
  {
   "cell_type": "markdown",
   "metadata": {
    "colab_type": "text",
    "id": "uwD6j5cL9Sl5"
   },
   "source": [
    "### Drop-outs"
   ]
  },
  {
   "cell_type": "markdown",
   "metadata": {},
   "source": [
    "Drop-out is a form of regularization, i.e. avoiding neural network overfitting by randomly dropping out nodes. I varied the probability of drop-out, at various intervals from 0 to 0.75. I found that increasing the drop-out probability caused the test accuracy to decrease, presumably since information was being discarded; however, this does not mean that including drop-out has no value. It may be more beneficial in larger networks that are more prone to overfitting, e.g. networks with more layers."
   ]
  },
  {
   "cell_type": "code",
   "execution_count": 0,
   "metadata": {
    "colab": {
     "base_uri": "https://localhost:8080/",
     "height": 612
    },
    "colab_type": "code",
    "id": "JQWZ_BBtcxRk",
    "outputId": "c3bcbd19-22b9-4f7a-8704-ac06e3844a13"
   },
   "outputs": [
    {
     "name": "stdout",
     "output_type": "stream",
     "text": [
      "Dropout rate: 0\n",
      "Epoch 0: Dev Accuracy: 0.5157132770045328 Dev Loss:0.6776465182587251\n",
      "Epoch 1: Dev Accuracy: 0.7529572743480488 Dev Loss:0.5108700614359419\n",
      "Epoch 2: Dev Accuracy: 0.8094985879073708 Dev Loss:0.43932692352998054\n",
      "Epoch 3: Dev Accuracy: 0.8567266949152542 Dev Loss:0.420237921683465\n",
      "Epoch 4: Dev Accuracy: 0.874073093220339 Dev Loss:0.4217579244493933\n",
      "Test Loss: 0.457 | Test Acc: 85.86%\n",
      "Dropout rate: 0.1\n",
      "Epoch 0: Dev Accuracy: 0.5324417372881356 Dev Loss:0.678965626631753\n",
      "Epoch 1: Dev Accuracy: 0.6975635593220338 Dev Loss:0.5910971189959574\n",
      "Epoch 2: Dev Accuracy: 0.740642655703981 Dev Loss:0.5083951793484769\n",
      "Epoch 3: Dev Accuracy: 0.7972722457627118 Dev Loss:0.47068602490728184\n",
      "Epoch 4: Dev Accuracy: 0.8152365820892786 Dev Loss:0.46278424384230277\n",
      "Test Loss: 0.478 | Test Acc: 81.51%\n",
      "Dropout rate: 0.25\n",
      "Epoch 0: Dev Accuracy: 0.5274540963819472 Dev Loss:0.6766419233912129\n",
      "Epoch 1: Dev Accuracy: 0.67845162446216 Dev Loss:0.579347625374794\n",
      "Epoch 2: Dev Accuracy: 0.7202065677966102 Dev Loss:0.5322475014096599\n",
      "Epoch 3: Dev Accuracy: 0.7413930084745762 Dev Loss:0.5096906471555516\n",
      "Epoch 4: Dev Accuracy: 0.7673463983050848 Dev Loss:0.5076770215468892\n",
      "Test Loss: 0.521 | Test Acc: 76.49%\n",
      "Dropout rate: 0.5\n",
      "Epoch 0: Dev Accuracy: 0.5221574862124556 Dev Loss:0.6846761971206988\n",
      "Epoch 1: Dev Accuracy: 0.5771539549706346 Dev Loss:0.6558871991553549\n",
      "Epoch 2: Dev Accuracy: 0.6088453389830508 Dev Loss:0.6146842539310455\n",
      "Epoch 3: Dev Accuracy: 0.6266772600553804 Dev Loss:0.6124467390068506\n",
      "Epoch 4: Dev Accuracy: 0.6655190677966102 Dev Loss:0.5751435786990796\n",
      "Test Loss: 0.593 | Test Acc: 65.85%\n",
      "Dropout rate: 0.75\n",
      "Epoch 0: Dev Accuracy: 0.5242319915254238 Dev Loss:0.6887864177509889\n",
      "Epoch 1: Dev Accuracy: 0.539768715026015 Dev Loss:0.6777756961725526\n",
      "Epoch 2: Dev Accuracy: 0.551288842144659 Dev Loss:0.6629951505337731\n",
      "Epoch 3: Dev Accuracy: 0.548508121805676 Dev Loss:0.6722086789244313\n",
      "Epoch 4: Dev Accuracy: 0.5582185736147024 Dev Loss:0.665758621389583\n",
      "Test Loss: 0.666 | Test Acc: 56.20%\n"
     ]
    }
   ],
   "source": [
    "for dropout_rate in [0, 0.1, 0.25, 0.5, 0.75]:\n",
    "    print(f'Dropout rate: {dropout_rate}')\n",
    "    model = WordEmbAvg(INPUT_DIM, EMBEDDING_DIM, HIDDEN_DIM, OUTPUT_DIM, PAD_IDX, dropout_p=dropout_rate)\n",
    "    model = model.to(device)\n",
    "    tm = Training_module(model)\n",
    "    dropout_model = tm.train_model(train_iterator, valid_iterator)\n",
    "    tm.model = dropout_model\n",
    "    test_loss, test_acc = tm.evaluate(test_iterator)\n",
    "    print(f'Test Loss: {test_loss:.3f} | Test Acc: {test_acc*100:.2f}%')"
   ]
  },
  {
   "cell_type": "markdown",
   "metadata": {
    "colab_type": "text",
    "id": "SuV5VqED9Sl6"
   },
   "source": [
    "### Number of embeddings/hidden dimensions"
   ]
  },
  {
   "cell_type": "markdown",
   "metadata": {},
   "source": [
    "I varied the numbers of embedding dimensions and hidden dimensions, and found that increasing the number of embedding dimensions led to an increase in test accuracy, although this effect plateaued eventually. (See graphs below.)\n",
    "\n",
    "Increasing the number of hidden dimensions generally led to an increase in test accuracy, but this effect was more complex; when the number of embedding dimensions was relatively small, an increase in the number of hidden dimensions actually led to a decrease in test accuracy beyond a certain point. (See graphs below.)\n",
    "\n",
    "This suggests that trial and error is required to determine the optimal numbers of embedding dimensions and hidden dimensions for a given situation."
   ]
  },
  {
   "cell_type": "code",
   "execution_count": 0,
   "metadata": {
    "colab": {},
    "colab_type": "code",
    "id": "DM31yiJhmS97"
   },
   "outputs": [],
   "source": [
    "import pandas as pd"
   ]
  },
  {
   "cell_type": "code",
   "execution_count": 0,
   "metadata": {
    "colab": {
     "base_uri": "https://localhost:8080/",
     "height": 1000
    },
    "colab_type": "code",
    "id": "YLTLvkFGh7lJ",
    "outputId": "4a7e8c5b-03ae-4cc3-c763-e9a3c5222a5f"
   },
   "outputs": [
    {
     "name": "stdout",
     "output_type": "stream",
     "text": [
      "Embedding dimensions: 20, Hidden dimensions: 10\n",
      "Epoch 0: Dev Accuracy: 0.4973516949152542 Dev Loss:0.687568541805623\n",
      "Epoch 1: Dev Accuracy: 0.7016242939536854 Dev Loss:0.6520565187526961\n",
      "Epoch 2: Dev Accuracy: 0.7283721753096176 Dev Loss:0.5631650054858903\n",
      "Epoch 3: Dev Accuracy: 0.7577683617502956 Dev Loss:0.4957691658351381\n",
      "Epoch 4: Dev Accuracy: 0.7963012007333464 Dev Loss:0.4666768650887376\n",
      "Test Loss: 0.479 | Test Acc: 79.00%\n",
      "Embedding dimensions: 20, Hidden dimensions: 25\n",
      "Epoch 0: Dev Accuracy: 0.5140360169491526 Dev Loss:0.6869941848819539\n",
      "Epoch 1: Dev Accuracy: 0.6948711159875838 Dev Loss:0.6369277233794585\n",
      "Epoch 2: Dev Accuracy: 0.736846751580804 Dev Loss:0.5257563431889324\n",
      "Epoch 3: Dev Accuracy: 0.7798817092079228 Dev Loss:0.509728267788887\n",
      "Epoch 4: Dev Accuracy: 0.8238877118644068 Dev Loss:0.48167250318042304\n",
      "Test Loss: 0.502 | Test Acc: 81.42%\n",
      "Embedding dimensions: 20, Hidden dimensions: 40\n",
      "Epoch 0: Dev Accuracy: 0.6334745762711864 Dev Loss:0.6846895258305437\n",
      "Epoch 1: Dev Accuracy: 0.7132768363265668 Dev Loss:0.6197369174431946\n",
      "Epoch 2: Dev Accuracy: 0.7454537431062278 Dev Loss:0.5133126926119045\n",
      "Epoch 3: Dev Accuracy: 0.8012447033898306 Dev Loss:0.47295398808131783\n",
      "Epoch 4: Dev Accuracy: 0.8376588983050848 Dev Loss:0.4481046819838427\n",
      "Test Loss: 0.475 | Test Acc: 82.72%\n",
      "Embedding dimensions: 20, Hidden dimensions: 50\n",
      "Epoch 0: Dev Accuracy: 0.524982344801143 Dev Loss:0.6875079703533044\n",
      "Epoch 1: Dev Accuracy: 0.644023658360465 Dev Loss:0.6484610205989773\n",
      "Epoch 2: Dev Accuracy: 0.7030808617502956 Dev Loss:0.5655800364280151\n",
      "Epoch 3: Dev Accuracy: 0.7530455508474576 Dev Loss:0.5390316856614614\n",
      "Epoch 4: Dev Accuracy: 0.8020391949152542 Dev Loss:0.4853507772845737\n",
      "Test Loss: 0.503 | Test Acc: 79.35%\n",
      "Embedding dimensions: 32, Hidden dimensions: 10\n",
      "Epoch 0: Dev Accuracy: 0.5133739406779662 Dev Loss:0.6888644483129857\n",
      "Epoch 1: Dev Accuracy: 0.6636211159875838 Dev Loss:0.6590557795459941\n",
      "Epoch 2: Dev Accuracy: 0.7225017658734726 Dev Loss:0.5729499696674993\n",
      "Epoch 3: Dev Accuracy: 0.7569738702248718 Dev Loss:0.49491459131240845\n",
      "Epoch 4: Dev Accuracy: 0.8048199152542372 Dev Loss:0.4420465309236009\n",
      "Test Loss: 0.450 | Test Acc: 79.68%\n",
      "Embedding dimensions: 32, Hidden dimensions: 25\n",
      "Epoch 0: Dev Accuracy: 0.6333421610169492 Dev Loss:0.6839680550462108\n",
      "Epoch 1: Dev Accuracy: 0.7213541668350414 Dev Loss:0.5936974963899386\n",
      "Epoch 2: Dev Accuracy: 0.760284251580804 Dev Loss:0.4929612958330219\n",
      "Epoch 3: Dev Accuracy: 0.8090572033898306 Dev Loss:0.45101091543496663\n",
      "Epoch 4: Dev Accuracy: 0.8449417372881356 Dev Loss:0.4230001753795955\n",
      "Test Loss: 0.452 | Test Acc: 82.92%\n",
      "Embedding dimensions: 32, Hidden dimensions: 40\n",
      "Epoch 0: Dev Accuracy: 0.509666313559322 Dev Loss:0.6857947818303513\n",
      "Epoch 1: Dev Accuracy: 0.685337217682499 Dev Loss:0.620439621351533\n",
      "Epoch 2: Dev Accuracy: 0.7541931498858888 Dev Loss:0.5053905369871754\n",
      "Epoch 3: Dev Accuracy: 0.795021186440678 Dev Loss:0.4575780708405931\n",
      "Epoch 4: Dev Accuracy: 0.832759533898305 Dev Loss:0.4224413406040709\n",
      "Test Loss: 0.439 | Test Acc: 82.46%\n",
      "Embedding dimensions: 32, Hidden dimensions: 50\n",
      "Epoch 0: Dev Accuracy: 0.5078125 Dev Loss:0.6865881373316555\n",
      "Epoch 1: Dev Accuracy: 0.6992408193774142 Dev Loss:0.623694508762683\n",
      "Epoch 2: Dev Accuracy: 0.736228813559322 Dev Loss:0.5218808544894397\n",
      "Epoch 3: Dev Accuracy: 0.7979784607887268 Dev Loss:0.4705721453084784\n",
      "Epoch 4: Dev Accuracy: 0.8369085455344896 Dev Loss:0.4348213235705586\n",
      "Test Loss: 0.461 | Test Acc: 82.42%\n",
      "Embedding dimensions: 64, Hidden dimensions: 10\n",
      "Epoch 0: Dev Accuracy: 0.5337658898305084 Dev Loss:0.6815400017520129\n",
      "Epoch 1: Dev Accuracy: 0.7176465397163972 Dev Loss:0.609002574520596\n",
      "Epoch 2: Dev Accuracy: 0.759666313559322 Dev Loss:0.4904806790715557\n",
      "Epoch 3: Dev Accuracy: 0.8113082627118644 Dev Loss:0.44239101382130286\n",
      "Epoch 4: Dev Accuracy: 0.8445444915254238 Dev Loss:0.4188470822774758\n",
      "Test Loss: 0.443 | Test Acc: 83.05%\n",
      "Embedding dimensions: 64, Hidden dimensions: 25\n",
      "Epoch 0: Dev Accuracy: 0.6034604523141506 Dev Loss:0.683109243542461\n",
      "Epoch 1: Dev Accuracy: 0.7013153251955064 Dev Loss:0.6235828475426819\n",
      "Epoch 2: Dev Accuracy: 0.7523393363265668 Dev Loss:0.5071806730860371\n",
      "Epoch 3: Dev Accuracy: 0.8125 Dev Loss:0.4686654567465944\n",
      "Epoch 4: Dev Accuracy: 0.8442796610169492 Dev Loss:0.4422396216857231\n",
      "Test Loss: 0.454 | Test Acc: 83.92%\n",
      "Embedding dimensions: 64, Hidden dimensions: 40\n",
      "Epoch 0: Dev Accuracy: 0.621822033898305 Dev Loss:0.6765342243647171\n",
      "Epoch 1: Dev Accuracy: 0.7085981641785574 Dev Loss:0.5722799361762354\n",
      "Epoch 2: Dev Accuracy: 0.7727754237288136 Dev Loss:0.5187788125822099\n",
      "Epoch 3: Dev Accuracy: 0.8238877118644068 Dev Loss:0.481221560578225\n",
      "Epoch 4: Dev Accuracy: 0.8535487288135594 Dev Loss:0.45583001473697565\n",
      "Test Loss: 0.486 | Test Acc: 84.23%\n",
      "Embedding dimensions: 64, Hidden dimensions: 50\n",
      "Epoch 0: Dev Accuracy: 0.6473781779661016 Dev Loss:0.6769511022810208\n",
      "Epoch 1: Dev Accuracy: 0.7306232346316516 Dev Loss:0.5515608332924924\n",
      "Epoch 2: Dev Accuracy: 0.7925935736147024 Dev Loss:0.4961607941126419\n",
      "Epoch 3: Dev Accuracy: 0.8359375 Dev Loss:0.4494697435174958\n",
      "Epoch 4: Dev Accuracy: 0.855667372881356 Dev Loss:0.44127771018420237\n",
      "Test Loss: 0.463 | Test Acc: 84.90%\n",
      "Embedding dimensions: 100, Hidden dimensions: 10\n",
      "Epoch 0: Dev Accuracy: 0.5082097457627118 Dev Loss:0.6880653323763508\n",
      "Epoch 1: Dev Accuracy: 0.7299170201107607 Dev Loss:0.644988444397005\n",
      "Epoch 2: Dev Accuracy: 0.7501324152542372 Dev Loss:0.5406254080392546\n",
      "Epoch 3: Dev Accuracy: 0.8081302966101694 Dev Loss:0.5127510975225497\n",
      "Epoch 4: Dev Accuracy: 0.8453389830508474 Dev Loss:0.46608889128191994\n",
      "Test Loss: 0.498 | Test Acc: 83.43%\n",
      "Embedding dimensions: 100, Hidden dimensions: 25\n",
      "Epoch 0: Dev Accuracy: 0.574947033898305 Dev Loss:0.6833893560757072\n",
      "Epoch 1: Dev Accuracy: 0.720692090563855 Dev Loss:0.595869518437628\n",
      "Epoch 2: Dev Accuracy: 0.7733933617502956 Dev Loss:0.48869760612309987\n",
      "Epoch 3: Dev Accuracy: 0.8286546610169492 Dev Loss:0.43762912879050786\n",
      "Epoch 4: Dev Accuracy: 0.8559322033898306 Dev Loss:0.4199695903492176\n",
      "Test Loss: 0.448 | Test Acc: 84.70%\n",
      "Embedding dimensions: 100, Hidden dimensions: 40\n",
      "Epoch 0: Dev Accuracy: 0.510990466101695 Dev Loss:0.6832598594285674\n",
      "Epoch 1: Dev Accuracy: 0.7230755651401262 Dev Loss:0.5743148230900199\n",
      "Epoch 2: Dev Accuracy: 0.7823534607887268 Dev Loss:0.47719594760466433\n",
      "Epoch 3: Dev Accuracy: 0.8381002828226252 Dev Loss:0.43436582032906806\n",
      "Epoch 4: Dev Accuracy: 0.8644509184158454 Dev Loss:0.4209933988118576\n",
      "Test Loss: 0.456 | Test Acc: 84.89%\n",
      "Embedding dimensions: 100, Hidden dimensions: 50\n",
      "Epoch 0: Dev Accuracy: 0.5274099576271186 Dev Loss:0.6769879940202681\n",
      "Epoch 1: Dev Accuracy: 0.7266949152542372 Dev Loss:0.5388645941423158\n",
      "Epoch 2: Dev Accuracy: 0.7992584745762712 Dev Loss:0.4493308467632633\n",
      "Epoch 3: Dev Accuracy: 0.8401747881355932 Dev Loss:0.4195514936315811\n",
      "Epoch 4: Dev Accuracy: 0.8622881355932204 Dev Loss:0.4177070820104268\n",
      "Test Loss: 0.444 | Test Acc: 85.15%\n"
     ]
    }
   ],
   "source": [
    "df = pd.DataFrame(columns=['embedding', 'hidden', 'accuracy'])\n",
    "for embed_dimension in [20, 32, 64, 100]:\n",
    "    for hidden_dimension in [10, 25, 40, 50]:\n",
    "        print(f'Embedding dimensions: {embed_dimension}, Hidden dimensions: {hidden_dimension}')\n",
    "        model = WordEmbAvg(INPUT_DIM, embed_dimension, hidden_dimension, OUTPUT_DIM, PAD_IDX)\n",
    "        model = model.to(device)\n",
    "        tm = Training_module(model)\n",
    "        dim_model = tm.train_model(train_iterator, valid_iterator)\n",
    "        tm.model = dim_model\n",
    "        test_loss, test_acc = tm.evaluate(test_iterator)\n",
    "        print(f'Test Loss: {test_loss:.3f} | Test Acc: {test_acc*100:.2f}%')\n",
    "        row = [embed_dimension, hidden_dimension, test_acc*100]\n",
    "        df.loc[len(df)] = row"
   ]
  },
  {
   "cell_type": "code",
   "execution_count": 0,
   "metadata": {
    "colab": {
     "base_uri": "https://localhost:8080/",
     "height": 545
    },
    "colab_type": "code",
    "id": "roI-IINOlTvv",
    "outputId": "3bafb9b3-3384-44eb-9947-b8fefd48c7d3"
   },
   "outputs": [
    {
     "data": {
      "text/html": [
       "<div>\n",
       "<style scoped>\n",
       "    .dataframe tbody tr th:only-of-type {\n",
       "        vertical-align: middle;\n",
       "    }\n",
       "\n",
       "    .dataframe tbody tr th {\n",
       "        vertical-align: top;\n",
       "    }\n",
       "\n",
       "    .dataframe thead th {\n",
       "        text-align: right;\n",
       "    }\n",
       "</style>\n",
       "<table border=\"1\" class=\"dataframe\">\n",
       "  <thead>\n",
       "    <tr style=\"text-align: right;\">\n",
       "      <th></th>\n",
       "      <th>embedding</th>\n",
       "      <th>hidden</th>\n",
       "      <th>accuracy</th>\n",
       "    </tr>\n",
       "  </thead>\n",
       "  <tbody>\n",
       "    <tr>\n",
       "      <th>0</th>\n",
       "      <td>20.0</td>\n",
       "      <td>10.0</td>\n",
       "      <td>79.002558</td>\n",
       "    </tr>\n",
       "    <tr>\n",
       "      <th>1</th>\n",
       "      <td>20.0</td>\n",
       "      <td>25.0</td>\n",
       "      <td>81.416240</td>\n",
       "    </tr>\n",
       "    <tr>\n",
       "      <th>2</th>\n",
       "      <td>20.0</td>\n",
       "      <td>40.0</td>\n",
       "      <td>82.721387</td>\n",
       "    </tr>\n",
       "    <tr>\n",
       "      <th>3</th>\n",
       "      <td>20.0</td>\n",
       "      <td>50.0</td>\n",
       "      <td>79.346228</td>\n",
       "    </tr>\n",
       "    <tr>\n",
       "      <th>4</th>\n",
       "      <td>32.0</td>\n",
       "      <td>10.0</td>\n",
       "      <td>79.680307</td>\n",
       "    </tr>\n",
       "    <tr>\n",
       "      <th>5</th>\n",
       "      <td>32.0</td>\n",
       "      <td>25.0</td>\n",
       "      <td>82.920396</td>\n",
       "    </tr>\n",
       "    <tr>\n",
       "      <th>6</th>\n",
       "      <td>32.0</td>\n",
       "      <td>40.0</td>\n",
       "      <td>82.463235</td>\n",
       "    </tr>\n",
       "    <tr>\n",
       "      <th>7</th>\n",
       "      <td>32.0</td>\n",
       "      <td>50.0</td>\n",
       "      <td>82.419278</td>\n",
       "    </tr>\n",
       "    <tr>\n",
       "      <th>8</th>\n",
       "      <td>64.0</td>\n",
       "      <td>10.0</td>\n",
       "      <td>83.046675</td>\n",
       "    </tr>\n",
       "    <tr>\n",
       "      <th>9</th>\n",
       "      <td>64.0</td>\n",
       "      <td>25.0</td>\n",
       "      <td>83.919437</td>\n",
       "    </tr>\n",
       "    <tr>\n",
       "      <th>10</th>\n",
       "      <td>64.0</td>\n",
       "      <td>40.0</td>\n",
       "      <td>84.228740</td>\n",
       "    </tr>\n",
       "    <tr>\n",
       "      <th>11</th>\n",
       "      <td>64.0</td>\n",
       "      <td>50.0</td>\n",
       "      <td>84.896899</td>\n",
       "    </tr>\n",
       "    <tr>\n",
       "      <th>12</th>\n",
       "      <td>100.0</td>\n",
       "      <td>10.0</td>\n",
       "      <td>83.429508</td>\n",
       "    </tr>\n",
       "    <tr>\n",
       "      <th>13</th>\n",
       "      <td>100.0</td>\n",
       "      <td>25.0</td>\n",
       "      <td>84.698689</td>\n",
       "    </tr>\n",
       "    <tr>\n",
       "      <th>14</th>\n",
       "      <td>100.0</td>\n",
       "      <td>40.0</td>\n",
       "      <td>84.889706</td>\n",
       "    </tr>\n",
       "    <tr>\n",
       "      <th>15</th>\n",
       "      <td>100.0</td>\n",
       "      <td>50.0</td>\n",
       "      <td>85.145460</td>\n",
       "    </tr>\n",
       "  </tbody>\n",
       "</table>\n",
       "</div>"
      ],
      "text/plain": [
       "    embedding  hidden   accuracy\n",
       "0        20.0    10.0  79.002558\n",
       "1        20.0    25.0  81.416240\n",
       "2        20.0    40.0  82.721387\n",
       "3        20.0    50.0  79.346228\n",
       "4        32.0    10.0  79.680307\n",
       "5        32.0    25.0  82.920396\n",
       "6        32.0    40.0  82.463235\n",
       "7        32.0    50.0  82.419278\n",
       "8        64.0    10.0  83.046675\n",
       "9        64.0    25.0  83.919437\n",
       "10       64.0    40.0  84.228740\n",
       "11       64.0    50.0  84.896899\n",
       "12      100.0    10.0  83.429508\n",
       "13      100.0    25.0  84.698689\n",
       "14      100.0    40.0  84.889706\n",
       "15      100.0    50.0  85.145460"
      ]
     },
     "execution_count": 60,
     "metadata": {
      "tags": []
     },
     "output_type": "execute_result"
    }
   ],
   "source": [
    "df"
   ]
  },
  {
   "cell_type": "code",
   "execution_count": 0,
   "metadata": {
    "colab": {
     "base_uri": "https://localhost:8080/",
     "height": 119
    },
    "colab_type": "code",
    "id": "kAboOlaonnR5",
    "outputId": "2e34d4d3-a8fc-465e-9fb1-70531b604fdc"
   },
   "outputs": [
    {
     "data": {
      "text/plain": [
       "embedding\n",
       "20.0     80.621603\n",
       "32.0     81.870804\n",
       "64.0     84.022938\n",
       "100.0    84.540841\n",
       "Name: accuracy, dtype: float64"
      ]
     },
     "execution_count": 61,
     "metadata": {
      "tags": []
     },
     "output_type": "execute_result"
    }
   ],
   "source": [
    "df.groupby('embedding')['accuracy'].mean()"
   ]
  },
  {
   "cell_type": "code",
   "execution_count": 0,
   "metadata": {
    "colab": {
     "base_uri": "https://localhost:8080/",
     "height": 119
    },
    "colab_type": "code",
    "id": "aiQ__rEKnrs_",
    "outputId": "335d0710-5f3e-41ac-fb1c-3599d17fa58e"
   },
   "outputs": [
    {
     "data": {
      "text/plain": [
       "hidden\n",
       "10.0    81.289762\n",
       "25.0    83.238691\n",
       "40.0    83.575767\n",
       "50.0    82.951966\n",
       "Name: accuracy, dtype: float64"
      ]
     },
     "execution_count": 62,
     "metadata": {
      "tags": []
     },
     "output_type": "execute_result"
    }
   ],
   "source": [
    "df.groupby('hidden')['accuracy'].mean()"
   ]
  },
  {
   "cell_type": "code",
   "execution_count": 0,
   "metadata": {
    "colab": {
     "base_uri": "https://localhost:8080/",
     "height": 71
    },
    "colab_type": "code",
    "id": "C2kUeT1vn4Eh",
    "outputId": "031a0d2e-4a19-4180-a5ed-bb1da11f1159"
   },
   "outputs": [
    {
     "name": "stderr",
     "output_type": "stream",
     "text": [
      "/usr/local/lib/python3.6/dist-packages/statsmodels/tools/_testing.py:19: FutureWarning: pandas.util.testing is deprecated. Use the functions in the public API at pandas.testing instead.\n",
      "  import pandas.util.testing as tm\n"
     ]
    }
   ],
   "source": [
    "import seaborn as sns\n",
    "import matplotlib.pyplot as plt"
   ]
  },
  {
   "cell_type": "code",
   "execution_count": 0,
   "metadata": {
    "colab": {
     "base_uri": "https://localhost:8080/",
     "height": 225
    },
    "colab_type": "code",
    "id": "-w0W8ARnoACE",
    "outputId": "90ac076d-455a-4fed-d8a5-eff677c0a005"
   },
   "outputs": [
    {
     "data": {
      "image/png": "[encoded data removed]",
      "text/plain": [
       "<Figure size 864x216 with 4 Axes>"
      ]
     },
     "metadata": {
      "needs_background": "light",
      "tags": []
     },
     "output_type": "display_data"
    }
   ],
   "source": [
    "g = sns.FacetGrid(df, col=\"embedding\")\n",
    "g = g.map(plt.plot, \"hidden\", \"accuracy\", marker=\".\")"
   ]
  },
  {
   "cell_type": "code",
   "execution_count": 0,
   "metadata": {
    "colab": {
     "base_uri": "https://localhost:8080/",
     "height": 225
    },
    "colab_type": "code",
    "id": "yl2aKmbToz1j",
    "outputId": "b07af3f9-f5d7-4a54-8419-00b9564161d7"
   },
   "outputs": [
    {
     "data": {
      "image/png": "[encoded data removed]",
      "text/plain": [
       "<Figure size 864x216 with 4 Axes>"
      ]
     },
     "metadata": {
      "needs_background": "light",
      "tags": []
     },
     "output_type": "display_data"
    }
   ],
   "source": [
    "g = sns.FacetGrid(df, col=\"hidden\")\n",
    "g = g.map(plt.plot, \"embedding\", \"accuracy\", marker=\".\")"
   ]
  },
  {
   "cell_type": "code",
   "execution_count": 0,
   "metadata": {
    "colab": {},
    "colab_type": "code",
    "id": "aJsicrS-1OAe"
   },
   "outputs": [],
   "source": [
    "# If you would like to save or load models after you have trained them, \n",
    "# use the following code.\n",
    "\n",
    "# To save a model. You can ignore any warnings\n",
    "torch.save(best_model.state_dict,'best_model')\n",
    "\n",
    "## To load a model\n",
    "best_model.load_state_dict('best_model')"
   ]
  }
 ],
 "metadata": {
  "accelerator": "GPU",
  "colab": {
   "collapsed_sections": [],
   "name": "hw2-sentiment-analysis-problem-3.ipynb",
   "provenance": []
  },
  "kernelspec": {
   "display_name": "Python 3",
   "language": "python",
   "name": "python3"
  },
  "language_info": {
   "codemirror_mode": {
    "name": "ipython",
    "version": 3
   },
   "file_extension": ".py",
   "mimetype": "text/x-python",
   "name": "python",
   "nbconvert_exporter": "python",
   "pygments_lexer": "ipython3",
   "version": "3.6.10"
  }
 },
 "nbformat": 4,
 "nbformat_minor": 1
}
