{
 "cells": [
  {
   "cell_type": "markdown",
   "metadata": {},
   "source": [
    "# Evaluating model performance"
   ]
  },
  {
   "cell_type": "code",
   "execution_count": 105,
   "metadata": {},
   "outputs": [],
   "source": [
    "import os\n",
    "import torch\n",
    "import torch.nn as nn\n",
    "import torch.optim as optim\n",
    "import torchtext.data as data\n",
    "import sys\n",
    "sys.path.append('../data_pipeline/')\n",
    "import preprocessing as pre\n",
    "sys.path.append('../modeling/')\n",
    "from training import TrainingModule\n",
    "import warnings\n",
    "warnings.filterwarnings('ignore')\n",
    "import pandas as pd\n",
    "import seaborn as sns\n",
    "import matplotlib.pyplot as plt\n",
    "import numpy as np"
   ]
  },
  {
   "cell_type": "code",
   "execution_count": 1,
   "metadata": {},
   "outputs": [],
   "source": [
    "class WordEmbAvg(nn.Module):\n",
    "    def __init__(self, input_dim, embedding_dim, hidden_dim, output_dim, pad_idx, two_layers=True, dropout_p=0.0):\n",
    "        \n",
    "        super().__init__()\n",
    "        \n",
    "        self.embedding = nn.Embedding(input_dim, embedding_dim)\n",
    "        if two_layers == True:\n",
    "            self.linear1 = nn.Linear(embedding_dim, hidden_dim)\n",
    "            self.linear2 = nn.Linear(hidden_dim, output_dim) \n",
    "        else:\n",
    "            self.linear1 = nn.Linear(embedding_dim, output_dim)\n",
    "            self.linear2 = None\n",
    "        self.relu = nn.ReLU()\n",
    "        self.drop_layer = nn.Dropout(p=dropout_p)\n",
    "\n",
    "        \n",
    "        \n",
    "    def forward(self, text):\n",
    "\n",
    "        embedded = self.embedding(text)\n",
    "        embedded = embedded.mean(0)\n",
    "        if not self.linear2:\n",
    "            linear1_output = self.linear1(embedded)\n",
    "            output = self.relu(linear1_output)\n",
    "            output = self.drop_layer(output)\n",
    "            return output\n",
    "        else:\n",
    "            linear1_output = self.linear1(embedded)\n",
    "            linear2_input = self.relu(linear1_output)\n",
    "            output = self.linear2(linear2_input)\n",
    "            output = self.drop_layer(output)\n",
    "            return output\n",
    "        \n",
    "class WordEmbAvgPtEmbeds(nn.Module):\n",
    "    def __init__(self, input_dim, embedding_dim, hidden_dim, output_dim, pad_idx, two_layers=True, dropout_p=0.0):\n",
    "        \n",
    "        super().__init__()\n",
    "        \n",
    "        self.embedding = nn.Embedding.from_pretrained(TEXT.vocab.vectors)\n",
    "        if two_layers == True:\n",
    "            self.linear1 = nn.Linear(embedding_dim, hidden_dim)\n",
    "            self.linear2 = nn.Linear(hidden_dim, output_dim) \n",
    "        else:\n",
    "            self.linear1 = nn.Linear(embedding_dim, output_dim)\n",
    "            self.linear2 = None\n",
    "        self.relu = nn.ReLU()\n",
    "        self.drop_layer = nn.Dropout(p=dropout_p)\n",
    "\n",
    "        \n",
    "        \n",
    "    def forward(self, text):\n",
    "\n",
    "        embedded = self.embedding(text)\n",
    "        embedded = embedded.mean(0)\n",
    "        if not self.linear2:\n",
    "            linear1_output = self.linear1(embedded)\n",
    "            output = self.relu(linear1_output)\n",
    "            output = self.drop_layer(output)\n",
    "            return output\n",
    "        else:\n",
    "            linear1_output = self.linear1(embedded)\n",
    "            linear2_input = self.relu(linear1_output)\n",
    "            output = self.linear2(linear2_input)\n",
    "            output = self.drop_layer(output)\n",
    "            return output\n",
    "        \n",
    "class RNN(nn.Module):\n",
    "    \n",
    "    def __init__(self, rnn_type, input_size, embedding_size,\n",
    "                 hidden_size, output_size, num_layers, dropout,\n",
    "                 bidirectional, padding_idx):\n",
    "    \n",
    "        super().__init__()\n",
    "        self.embedding = nn.Embedding(input_size, embedding_size,\n",
    "                                      padding_idx=padding_idx)\n",
    "        \n",
    "        self.rnn = getattr(nn, rnn_type.upper())\\\n",
    "                          (embedding_size, hidden_size, num_layers,\n",
    "                           dropout=(dropout if num_layers > 1 else 0),\n",
    "                           bidirectional=bidirectional)\n",
    "        \n",
    "        self.leakyrelu = nn.LeakyReLU()\n",
    "        self.dropout = nn.Dropout(dropout)\n",
    "        \n",
    "        linear_inp = (hidden_size * 2 if bidirectional else hidden_size)\n",
    "        self.linear = nn.Linear(linear_inp, output_size)\n",
    "             \n",
    "    def forward(self, input):\n",
    "        embed = self.embedding(input)\n",
    "        rnn_out, hidden = self.rnn(embed)\n",
    "        rnn_out = rnn_out[-1]\n",
    "        rnn_out = self.leakyrelu(rnn_out)\n",
    "        rnn_out = self.dropout(rnn_out)\n",
    "        linear_out = self.linear(rnn_out)\n",
    "        return linear_out\n",
    "    \n",
    "class RNNPtEmbeds(nn.Module):\n",
    "    \n",
    "    def __init__(self, rnn_type, input_size, embedding_size,\n",
    "                 hidden_size, output_size, num_layers,\n",
    "                 dropout, bidirectional, padding_idx):\n",
    "    \n",
    "        super().__init__()\n",
    "        self.embedding = nn.Embedding\\\n",
    "                           .from_pretrained(TEXT.vocab.vectors)\n",
    "\n",
    "        self.rnn = getattr(nn, rnn_type.upper())\\\n",
    "                          (embedding_size, hidden_size, num_layers,\n",
    "                           dropout=(dropout if num_layers > 1 else 0),\n",
    "                           bidirectional=bidirectional)\n",
    "        \n",
    "        self.leakyrelu = nn.LeakyReLU()\n",
    "        self.dropout = nn.Dropout(dropout)\n",
    "        \n",
    "        linear_inp = (hidden_size * 2 if bidirectional else hidden_size)\n",
    "        self.linear = nn.Linear(linear_inp, output_size)\n",
    "             \n",
    "    def forward(self, input):\n",
    "        embed = self.embedding(input)\n",
    "        rnn_out, hidden = self.rnn(embed)\n",
    "        rnn_out = rnn_out[-1]\n",
    "        rnn_out = self.leakyrelu(rnn_out)\n",
    "        rnn_out = self.dropout(rnn_out)\n",
    "        linear_out = self.linear(rnn_out)\n",
    "        return linear_out"
   ]
  },
  {
   "cell_type": "markdown",
   "metadata": {},
   "source": [
    "# Overall model performance"
   ]
  },
  {
   "cell_type": "code",
   "execution_count": 19,
   "metadata": {},
   "outputs": [],
   "source": [
    "simple_custom = pd.read_csv('SimpleNNCustom_models.csv')\n",
    "simple_pre = pd.read_csv('SimpleNNLaw2Vec_models.csv')\n",
    "rnn_custom = pd.read_csv('RNNCustom_models.csv')\n",
    "rnn_pre = pd.read_csv('RNNLaw2Vec_models.csv')"
   ]
  },
  {
   "cell_type": "code",
   "execution_count": 24,
   "metadata": {},
   "outputs": [],
   "source": [
    "simple_custom['model_type'] = 'SimpleNN'\n",
    "simple_pre['model_type'] = 'SimpleNN'"
   ]
  },
  {
   "cell_type": "code",
   "execution_count": 40,
   "metadata": {},
   "outputs": [],
   "source": [
    "all_eval = pd.concat([simple_custom, simple_pre, rnn_custom, rnn_pre], ignore_index=True)"
   ]
  },
  {
   "cell_type": "code",
   "execution_count": 52,
   "metadata": {},
   "outputs": [],
   "source": [
    "def plot_metric_one_param(df, param, metric):\n",
    "    to_plot = df.groupby(param)[metric].mean().reset_index()\n",
    "    return sns.lineplot(x=param, y=metric, data=to_plot)"
   ]
  },
  {
   "cell_type": "code",
   "execution_count": 72,
   "metadata": {},
   "outputs": [],
   "source": [
    "def plot_metric_facet(df, const_param, vary_param, metric):\n",
    "    to_plot = df.groupby([const_param, vary_param])[metric].mean().reset_index()\n",
    "    g = sns.FacetGrid(to_plot, col=const_param, sharex=False)\n",
    "    g = g.map(plt.plot, vary_param, metric, marker=\".\")\n",
    "    return g"
   ]
  },
  {
   "cell_type": "markdown",
   "metadata": {},
   "source": [
    "## Effect of varying embedding dimensions\n",
    "\n",
    "As the number of embedding dimensions decreases, accuracy increases, but precision decreases.\n",
    "\n",
    "However, these effects vary by model type. For simple neural networks, after a certain point, an increase in embedding dimensions actually causes accuracy to decrease. The overall precision decrease is also much more pronounced for RNNs and LSTMs than for simple neural networks."
   ]
  },
  {
   "cell_type": "code",
   "execution_count": 165,
   "metadata": {},
   "outputs": [
    {
     "data": {
      "text/plain": [
       "<matplotlib.axes._subplots.AxesSubplot at 0x7fcd43c957b8>"
      ]
     },
     "execution_count": 165,
     "metadata": {},
     "output_type": "execute_result"
    },
    {
     "data": {
      "image/png": "[encoded data removed]",
      "text/plain": [
       "<Figure size 432x288 with 1 Axes>"
      ]
     },
     "metadata": {
      "needs_background": "light"
     },
     "output_type": "display_data"
    }
   ],
   "source": [
    "plot_metric_one_param(all_eval[all_eval['embeddings'] != 'Law2Vec'], 'embeddings', 'dev_acc')"
   ]
  },
  {
   "cell_type": "code",
   "execution_count": 166,
   "metadata": {},
   "outputs": [
    {
     "data": {
      "text/plain": [
       "<seaborn.axisgrid.FacetGrid at 0x7fcd43d41f28>"
      ]
     },
     "execution_count": 166,
     "metadata": {},
     "output_type": "execute_result"
    },
    {
     "data": {
      "image/png": "[encoded data removed]",
      "text/plain": [
       "<Figure size 648x216 with 3 Axes>"
      ]
     },
     "metadata": {
      "needs_background": "light"
     },
     "output_type": "display_data"
    }
   ],
   "source": [
    "plot_metric_facet(all_eval[all_eval['embeddings'] != 'Law2Vec'], 'model_type', 'embeddings', 'dev_acc')"
   ]
  },
  {
   "cell_type": "code",
   "execution_count": 73,
   "metadata": {
    "scrolled": true
   },
   "outputs": [
    {
     "data": {
      "text/plain": [
       "<matplotlib.axes._subplots.AxesSubplot at 0x7fcd4c243978>"
      ]
     },
     "execution_count": 73,
     "metadata": {},
     "output_type": "execute_result"
    },
    {
     "data": {
      "image/png": "[encoded data removed]",
      "text/plain": [
       "<Figure size 432x288 with 1 Axes>"
      ]
     },
     "metadata": {
      "needs_background": "light"
     },
     "output_type": "display_data"
    }
   ],
   "source": [
    "plot_metric_one_param(all_eval[all_eval['embeddings'] != 'Law2Vec'], 'embeddings', 'dev_prec')"
   ]
  },
  {
   "cell_type": "code",
   "execution_count": 87,
   "metadata": {},
   "outputs": [
    {
     "data": {
      "text/plain": [
       "<seaborn.axisgrid.FacetGrid at 0x7fcd444c90f0>"
      ]
     },
     "execution_count": 87,
     "metadata": {},
     "output_type": "execute_result"
    },
    {
     "data": {
      "image/png": "[encoded data removed]",
      "text/plain": [
       "<Figure size 648x216 with 3 Axes>"
      ]
     },
     "metadata": {
      "needs_background": "light"
     },
     "output_type": "display_data"
    }
   ],
   "source": [
    "plot_metric_facet(all_eval[all_eval['embeddings'] != 'Law2Vec'], 'model_type', 'embeddings', 'dev_prec')"
   ]
  },
  {
   "cell_type": "markdown",
   "metadata": {},
   "source": [
    "## Effect of varying hidden dimensions"
   ]
  },
  {
   "cell_type": "code",
   "execution_count": 80,
   "metadata": {},
   "outputs": [
    {
     "data": {
      "text/plain": [
       "<seaborn.axisgrid.FacetGrid at 0x7fcd44654e48>"
      ]
     },
     "execution_count": 80,
     "metadata": {},
     "output_type": "execute_result"
    },
    {
     "data": {
      "image/png": "[encoded data removed]",
      "text/plain": [
       "<Figure size 648x216 with 3 Axes>"
      ]
     },
     "metadata": {
      "needs_background": "light"
     },
     "output_type": "display_data"
    }
   ],
   "source": [
    "plot_metric_facet(all_eval, 'model_type', 'hidden', 'dev_prec')"
   ]
  },
  {
   "cell_type": "markdown",
   "metadata": {},
   "source": [
    "## Effect of varying dropout rate\n",
    "\n",
    "Increasing the dropout rate causes precision to decrease for LSTMs and increase for RNNs."
   ]
  },
  {
   "cell_type": "code",
   "execution_count": 85,
   "metadata": {
    "scrolled": true
   },
   "outputs": [
    {
     "data": {
      "text/plain": [
       "<matplotlib.axes._subplots.AxesSubplot at 0x7fcd443f57f0>"
      ]
     },
     "execution_count": 85,
     "metadata": {},
     "output_type": "execute_result"
    },
    {
     "data": {
      "image/png": "[encoded data removed]",
      "text/plain": [
       "<Figure size 432x288 with 1 Axes>"
      ]
     },
     "metadata": {
      "needs_background": "light"
     },
     "output_type": "display_data"
    }
   ],
   "source": [
    "plot_metric_one_param(all_eval, 'dropouts', 'dev_prec')"
   ]
  },
  {
   "cell_type": "code",
   "execution_count": 79,
   "metadata": {},
   "outputs": [
    {
     "data": {
      "text/plain": [
       "<seaborn.axisgrid.FacetGrid at 0x7fcd4c1b8048>"
      ]
     },
     "execution_count": 79,
     "metadata": {},
     "output_type": "execute_result"
    },
    {
     "data": {
      "image/png": "[encoded data removed]",
      "text/plain": [
       "<Figure size 648x216 with 3 Axes>"
      ]
     },
     "metadata": {
      "needs_background": "light"
     },
     "output_type": "display_data"
    }
   ],
   "source": [
    "plot_metric_facet(all_eval, 'model_type', 'dropouts', 'dev_prec')"
   ]
  },
  {
   "cell_type": "markdown",
   "metadata": {},
   "source": [
    "## Effect of varying learning rate\n",
    "\n",
    "As learning rate increases, precision increases for RNNs, and increases even more markedly for LSTMs, but decreases for simple neural networks."
   ]
  },
  {
   "cell_type": "code",
   "execution_count": 82,
   "metadata": {},
   "outputs": [
    {
     "data": {
      "text/plain": [
       "<matplotlib.axes._subplots.AxesSubplot at 0x7fcd4448ac50>"
      ]
     },
     "execution_count": 82,
     "metadata": {},
     "output_type": "execute_result"
    },
    {
     "data": {
      "image/png": "[encoded data removed]",
      "text/plain": [
       "<Figure size 432x288 with 1 Axes>"
      ]
     },
     "metadata": {
      "needs_background": "light"
     },
     "output_type": "display_data"
    }
   ],
   "source": [
    "plot_metric_one_param(all_eval, 'learning_rate', 'dev_prec')"
   ]
  },
  {
   "cell_type": "code",
   "execution_count": 81,
   "metadata": {},
   "outputs": [
    {
     "data": {
      "text/plain": [
       "<seaborn.axisgrid.FacetGrid at 0x7fcd445b7320>"
      ]
     },
     "execution_count": 81,
     "metadata": {},
     "output_type": "execute_result"
    },
    {
     "data": {
      "image/png": "[encoded data removed]",
      "text/plain": [
       "<Figure size 648x216 with 3 Axes>"
      ]
     },
     "metadata": {
      "needs_background": "light"
     },
     "output_type": "display_data"
    }
   ],
   "source": [
    "plot_metric_facet(all_eval, 'model_type', 'learning_rate', 'dev_prec')"
   ]
  },
  {
   "cell_type": "markdown",
   "metadata": {},
   "source": [
    "## Difference in performance between pretrained and custom embeddings\n",
    "\n",
    "From the following distributions, we see that custom embeddings produce higher accuracy and precision, but lower recall. "
   ]
  },
  {
   "cell_type": "code",
   "execution_count": 88,
   "metadata": {},
   "outputs": [],
   "source": [
    "pretrain = all_eval[all_eval['embeddings'] == 'Law2Vec']"
   ]
  },
  {
   "cell_type": "code",
   "execution_count": 91,
   "metadata": {},
   "outputs": [],
   "source": [
    "custom = all_eval[all_eval['embeddings'] != 'Law2Vec']"
   ]
  },
  {
   "cell_type": "code",
   "execution_count": 99,
   "metadata": {},
   "outputs": [
    {
     "data": {
      "text/html": [
       "<div>\n",
       "<style scoped>\n",
       "    .dataframe tbody tr th:only-of-type {\n",
       "        vertical-align: middle;\n",
       "    }\n",
       "\n",
       "    .dataframe tbody tr th {\n",
       "        vertical-align: top;\n",
       "    }\n",
       "\n",
       "    .dataframe thead th {\n",
       "        text-align: right;\n",
       "    }\n",
       "</style>\n",
       "<table border=\"1\" class=\"dataframe\">\n",
       "  <thead>\n",
       "    <tr style=\"text-align: right;\">\n",
       "      <th></th>\n",
       "      <th>dev_acc</th>\n",
       "      <th>dev_prec</th>\n",
       "      <th>dev_recall</th>\n",
       "    </tr>\n",
       "  </thead>\n",
       "  <tbody>\n",
       "    <tr>\n",
       "      <th>count</th>\n",
       "      <td>372.000000</td>\n",
       "      <td>285.000000</td>\n",
       "      <td>372.000000</td>\n",
       "    </tr>\n",
       "    <tr>\n",
       "      <th>mean</th>\n",
       "      <td>0.462776</td>\n",
       "      <td>0.179760</td>\n",
       "      <td>0.585013</td>\n",
       "    </tr>\n",
       "    <tr>\n",
       "      <th>std</th>\n",
       "      <td>0.331353</td>\n",
       "      <td>0.131854</td>\n",
       "      <td>0.447031</td>\n",
       "    </tr>\n",
       "    <tr>\n",
       "      <th>min</th>\n",
       "      <td>0.135593</td>\n",
       "      <td>0.000000</td>\n",
       "      <td>0.000000</td>\n",
       "    </tr>\n",
       "    <tr>\n",
       "      <th>25%</th>\n",
       "      <td>0.135593</td>\n",
       "      <td>0.135593</td>\n",
       "      <td>0.125000</td>\n",
       "    </tr>\n",
       "    <tr>\n",
       "      <th>50%</th>\n",
       "      <td>0.288136</td>\n",
       "      <td>0.135593</td>\n",
       "      <td>0.875000</td>\n",
       "    </tr>\n",
       "    <tr>\n",
       "      <th>75%</th>\n",
       "      <td>0.864407</td>\n",
       "      <td>0.163265</td>\n",
       "      <td>1.000000</td>\n",
       "    </tr>\n",
       "    <tr>\n",
       "      <th>max</th>\n",
       "      <td>0.881356</td>\n",
       "      <td>1.000000</td>\n",
       "      <td>1.000000</td>\n",
       "    </tr>\n",
       "  </tbody>\n",
       "</table>\n",
       "</div>"
      ],
      "text/plain": [
       "          dev_acc    dev_prec  dev_recall\n",
       "count  372.000000  285.000000  372.000000\n",
       "mean     0.462776    0.179760    0.585013\n",
       "std      0.331353    0.131854    0.447031\n",
       "min      0.135593    0.000000    0.000000\n",
       "25%      0.135593    0.135593    0.125000\n",
       "50%      0.288136    0.135593    0.875000\n",
       "75%      0.864407    0.163265    1.000000\n",
       "max      0.881356    1.000000    1.000000"
      ]
     },
     "execution_count": 99,
     "metadata": {},
     "output_type": "execute_result"
    }
   ],
   "source": [
    "pretrain[['dev_acc', 'dev_prec', 'dev_recall']].describe()"
   ]
  },
  {
   "cell_type": "code",
   "execution_count": 100,
   "metadata": {},
   "outputs": [
    {
     "data": {
      "text/html": [
       "<div>\n",
       "<style scoped>\n",
       "    .dataframe tbody tr th:only-of-type {\n",
       "        vertical-align: middle;\n",
       "    }\n",
       "\n",
       "    .dataframe tbody tr th {\n",
       "        vertical-align: top;\n",
       "    }\n",
       "\n",
       "    .dataframe thead th {\n",
       "        text-align: right;\n",
       "    }\n",
       "</style>\n",
       "<table border=\"1\" class=\"dataframe\">\n",
       "  <thead>\n",
       "    <tr style=\"text-align: right;\">\n",
       "      <th></th>\n",
       "      <th>dev_acc</th>\n",
       "      <th>dev_prec</th>\n",
       "      <th>dev_recall</th>\n",
       "    </tr>\n",
       "  </thead>\n",
       "  <tbody>\n",
       "    <tr>\n",
       "      <th>count</th>\n",
       "      <td>1470.000000</td>\n",
       "      <td>1315.000000</td>\n",
       "      <td>1470.000000</td>\n",
       "    </tr>\n",
       "    <tr>\n",
       "      <th>mean</th>\n",
       "      <td>0.589819</td>\n",
       "      <td>0.193639</td>\n",
       "      <td>0.470153</td>\n",
       "    </tr>\n",
       "    <tr>\n",
       "      <th>std</th>\n",
       "      <td>0.274196</td>\n",
       "      <td>0.154813</td>\n",
       "      <td>0.387501</td>\n",
       "    </tr>\n",
       "    <tr>\n",
       "      <th>min</th>\n",
       "      <td>0.101695</td>\n",
       "      <td>0.000000</td>\n",
       "      <td>0.000000</td>\n",
       "    </tr>\n",
       "    <tr>\n",
       "      <th>25%</th>\n",
       "      <td>0.271186</td>\n",
       "      <td>0.135593</td>\n",
       "      <td>0.125000</td>\n",
       "    </tr>\n",
       "    <tr>\n",
       "      <th>50%</th>\n",
       "      <td>0.728814</td>\n",
       "      <td>0.160000</td>\n",
       "      <td>0.375000</td>\n",
       "    </tr>\n",
       "    <tr>\n",
       "      <th>75%</th>\n",
       "      <td>0.830508</td>\n",
       "      <td>0.226540</td>\n",
       "      <td>0.875000</td>\n",
       "    </tr>\n",
       "    <tr>\n",
       "      <th>max</th>\n",
       "      <td>0.881356</td>\n",
       "      <td>1.000000</td>\n",
       "      <td>1.000000</td>\n",
       "    </tr>\n",
       "  </tbody>\n",
       "</table>\n",
       "</div>"
      ],
      "text/plain": [
       "           dev_acc     dev_prec   dev_recall\n",
       "count  1470.000000  1315.000000  1470.000000\n",
       "mean      0.589819     0.193639     0.470153\n",
       "std       0.274196     0.154813     0.387501\n",
       "min       0.101695     0.000000     0.000000\n",
       "25%       0.271186     0.135593     0.125000\n",
       "50%       0.728814     0.160000     0.375000\n",
       "75%       0.830508     0.226540     0.875000\n",
       "max       0.881356     1.000000     1.000000"
      ]
     },
     "execution_count": 100,
     "metadata": {},
     "output_type": "execute_result"
    }
   ],
   "source": [
    "custom[['dev_acc', 'dev_prec', 'dev_recall']].describe()"
   ]
  },
  {
   "cell_type": "code",
   "execution_count": 106,
   "metadata": {},
   "outputs": [],
   "source": [
    "boxplots = all_eval.copy()\n",
    "boxplots['embedding_type'] = np.where(boxplots['embeddings'] == 'Law2Vec', 'Pretrained', 'Custom')"
   ]
  },
  {
   "cell_type": "code",
   "execution_count": 119,
   "metadata": {},
   "outputs": [
    {
     "data": {
      "image/png": "[encoded data removed]",
      "text/plain": [
       "<Figure size 432x288 with 1 Axes>"
      ]
     },
     "metadata": {
      "needs_background": "light"
     },
     "output_type": "display_data"
    }
   ],
   "source": [
    "ax = sns.boxplot(x=\"dev_prec\", y=\"embedding_type\", data=boxplots)\n",
    "ax.set(xlabel='Precision', ylabel='Embedding Type')\n",
    "plt.show()"
   ]
  },
  {
   "cell_type": "code",
   "execution_count": 122,
   "metadata": {},
   "outputs": [
    {
     "data": {
      "image/png": "[encoded data removed]",
      "text/plain": [
       "<Figure size 432x288 with 1 Axes>"
      ]
     },
     "metadata": {
      "needs_background": "light"
     },
     "output_type": "display_data"
    }
   ],
   "source": [
    "ax = sns.boxplot(x=\"dev_acc\", y=\"embedding_type\", data=boxplots)\n",
    "ax.set(xlabel='Accuracy', ylabel='Embedding Type')\n",
    "plt.show()"
   ]
  },
  {
   "cell_type": "code",
   "execution_count": 123,
   "metadata": {},
   "outputs": [
    {
     "data": {
      "image/png": "[encoded data removed]",
      "text/plain": [
       "<Figure size 432x288 with 1 Axes>"
      ]
     },
     "metadata": {
      "needs_background": "light"
     },
     "output_type": "display_data"
    }
   ],
   "source": [
    "ax = sns.boxplot(x=\"dev_recall\", y=\"embedding_type\", data=boxplots)\n",
    "ax.set(xlabel='Recall', ylabel='Embedding Type')\n",
    "plt.show()"
   ]
  },
  {
   "cell_type": "markdown",
   "metadata": {},
   "source": [
    "# Importing best models"
   ]
  },
  {
   "cell_type": "code",
   "execution_count": 124,
   "metadata": {},
   "outputs": [],
   "source": [
    "models = {}\n",
    "results_dir = '.'\n",
    "for file in os.listdir(results_dir):\n",
    "    filename = os.fsdecode(file)\n",
    "    if filename.endswith('.pt'):\n",
    "        model_path = os.path.join(results_dir, filename)\n",
    "        models[filename[:-3]] = torch.load(model_path)"
   ]
  },
  {
   "cell_type": "code",
   "execution_count": 125,
   "metadata": {
    "scrolled": true
   },
   "outputs": [
    {
     "data": {
      "text/plain": [
       "{'SimpleNNCustom_best_rec': WordEmbAvg(\n",
       "   (embedding): Embedding(32168, 32)\n",
       "   (linear1): Linear(in_features=32, out_features=10, bias=True)\n",
       "   (linear2): Linear(in_features=10, out_features=1, bias=True)\n",
       "   (relu): ReLU()\n",
       "   (drop_layer): Dropout(p=0, inplace=False)\n",
       " ),\n",
       " 'SimpleNNCustom_best_prec': WordEmbAvg(\n",
       "   (embedding): Embedding(32168, 32)\n",
       "   (linear1): Linear(in_features=32, out_features=25, bias=True)\n",
       "   (linear2): Linear(in_features=25, out_features=1, bias=True)\n",
       "   (relu): ReLU()\n",
       "   (drop_layer): Dropout(p=0.75, inplace=False)\n",
       " ),\n",
       " 'SimpleNNLaw2Vec_best_rec': WordEmbAvgPtEmbeds(\n",
       "   (embedding): Embedding(32168, 100)\n",
       "   (linear1): Linear(in_features=100, out_features=10, bias=True)\n",
       "   (linear2): Linear(in_features=10, out_features=1, bias=True)\n",
       "   (relu): ReLU()\n",
       "   (drop_layer): Dropout(p=0, inplace=False)\n",
       " ),\n",
       " 'RNNCustom_best_acc': RNN(\n",
       "   (embedding): Embedding(32168, 32, padding_idx=1)\n",
       "   (rnn): RNN(32, 21, num_layers=2, dropout=0.75, bidirectional=True)\n",
       "   (leakyrelu): LeakyReLU(negative_slope=0.01)\n",
       "   (dropout): Dropout(p=0.75, inplace=False)\n",
       "   (linear): Linear(in_features=42, out_features=1, bias=True)\n",
       " ),\n",
       " 'SimpleNNLaw2Vec_best_prec': WordEmbAvgPtEmbeds(\n",
       "   (embedding): Embedding(32168, 100)\n",
       "   (linear1): Linear(in_features=100, out_features=40, bias=True)\n",
       "   (linear2): Linear(in_features=40, out_features=1, bias=True)\n",
       "   (relu): ReLU()\n",
       "   (drop_layer): Dropout(p=0, inplace=False)\n",
       " ),\n",
       " 'RNNLaw2Vec_best_rec': RNNPtEmbeds(\n",
       "   (embedding): Embedding(32168, 100)\n",
       "   (rnn): RNN(100, 33)\n",
       "   (leakyrelu): LeakyReLU(negative_slope=0.01)\n",
       "   (dropout): Dropout(p=0.5, inplace=False)\n",
       "   (linear): Linear(in_features=33, out_features=1, bias=True)\n",
       " ),\n",
       " 'RNNCustom_best_rec': RNN(\n",
       "   (embedding): Embedding(32168, 32, padding_idx=1)\n",
       "   (rnn): RNN(32, 10)\n",
       "   (leakyrelu): LeakyReLU(negative_slope=0.01)\n",
       "   (dropout): Dropout(p=0.5, inplace=False)\n",
       "   (linear): Linear(in_features=10, out_features=1, bias=True)\n",
       " ),\n",
       " 'SimpleNNCustom_best_acc': WordEmbAvg(\n",
       "   (embedding): Embedding(32168, 32)\n",
       "   (linear1): Linear(in_features=32, out_features=25, bias=True)\n",
       "   (linear2): Linear(in_features=25, out_features=1, bias=True)\n",
       "   (relu): ReLU()\n",
       "   (drop_layer): Dropout(p=0.75, inplace=False)\n",
       " ),\n",
       " 'RNNCustom_best_prec': RNN(\n",
       "   (embedding): Embedding(32168, 32, padding_idx=1)\n",
       "   (rnn): RNN(32, 21, num_layers=2, dropout=0.75, bidirectional=True)\n",
       "   (leakyrelu): LeakyReLU(negative_slope=0.01)\n",
       "   (dropout): Dropout(p=0.75, inplace=False)\n",
       "   (linear): Linear(in_features=42, out_features=1, bias=True)\n",
       " ),\n",
       " 'RNNLaw2Vec_best_acc': RNNPtEmbeds(\n",
       "   (embedding): Embedding(32168, 100)\n",
       "   (rnn): LSTM(100, 33, bidirectional=True)\n",
       "   (leakyrelu): LeakyReLU(negative_slope=0.01)\n",
       "   (dropout): Dropout(p=0.5, inplace=False)\n",
       "   (linear): Linear(in_features=66, out_features=1, bias=True)\n",
       " ),\n",
       " 'RNNLaw2Vec_best_prec': RNNPtEmbeds(\n",
       "   (embedding): Embedding(32168, 100)\n",
       "   (rnn): LSTM(100, 33, bidirectional=True)\n",
       "   (leakyrelu): LeakyReLU(negative_slope=0.01)\n",
       "   (dropout): Dropout(p=0.5, inplace=False)\n",
       "   (linear): Linear(in_features=66, out_features=1, bias=True)\n",
       " ),\n",
       " 'SimpleNNLaw2Vec_best_acc': WordEmbAvgPtEmbeds(\n",
       "   (embedding): Embedding(32168, 100)\n",
       "   (linear1): Linear(in_features=100, out_features=10, bias=True)\n",
       "   (linear2): Linear(in_features=10, out_features=1, bias=True)\n",
       "   (relu): ReLU()\n",
       "   (drop_layer): Dropout(p=0, inplace=False)\n",
       " )}"
      ]
     },
     "execution_count": 125,
     "metadata": {},
     "output_type": "execute_result"
    }
   ],
   "source": [
    "models"
   ]
  },
  {
   "cell_type": "markdown",
   "metadata": {},
   "source": [
    "## Running one model on test set"
   ]
  },
  {
   "cell_type": "code",
   "execution_count": 7,
   "metadata": {
    "scrolled": true
   },
   "outputs": [
    {
     "name": "stdout",
     "output_type": "stream",
     "text": [
      "Connected!\n"
     ]
    },
    {
     "name": "stderr",
     "output_type": "stream",
     "text": [
      "../data_pipeline/preprocessing.py:68: SettingWithCopyWarning: \n",
      "A value is trying to be set on a copy of a slice from a DataFrame.\n",
      "Try using .loc[row_indexer,col_indexer] = value instead\n",
      "\n",
      "See the caveats in the documentation: https://pandas.pydata.org/pandas-docs/stable/user_guide/indexing.html#returning-a-view-versus-a-copy\n",
      "  sans_nulls_df['alj_text'] = sans_nulls_df['alj_text'].str.slice(0, 1000000)\n"
     ]
    }
   ],
   "source": [
    "train_data, test_data, val_data, TEXT, LABEL = pre.get_data(\n",
    "    'train_small.csv', 'val_small.csv', 'test_small.csv')"
   ]
  },
  {
   "cell_type": "code",
   "execution_count": 127,
   "metadata": {},
   "outputs": [],
   "source": [
    "SEED = 1312\n",
    "torch.manual_seed(SEED)\n",
    "torch.backends.cudnn.deterministic = True\n",
    "\n",
    "USE_CUDA = torch.cuda.is_available()\n",
    "\n",
    "TEXT.build_vocab(train_data)\n",
    "LABEL.build_vocab(train_data)\n",
    "\n",
    "BATCH_SIZE = 5\n",
    "\n",
    "train_it, test_it, val_it = data.BucketIterator.splits(\n",
    "    (train_data, test_data, val_data), \n",
    "    batch_size = BATCH_SIZE,\n",
    "    sort_key=lambda x: len(x.alj_text),\n",
    "    sort_within_batch=True,\n",
    "    device = torch.device('cuda' if USE_CUDA else 'cpu'))\n",
    "\n",
    "train_len = 0\n",
    "train_pos = 0\n",
    "for batch in train_it:\n",
    "    train_len += len(batch.decision_binary)\n",
    "    train_pos += batch.decision_binary.sum().item()\n",
    "POS_WEIGHT = torch.tensor([(train_len - train_pos) / train_pos])\n",
    "if USE_CUDA:\n",
    "    POS_WEIGHT = POS_WEIGHT.cuda()\n",
    "EPOCHS = 10"
   ]
  },
  {
   "cell_type": "code",
   "execution_count": 148,
   "metadata": {},
   "outputs": [],
   "source": [
    "best_simple_model = models['SimpleNNCustom_best_prec']"
   ]
  },
  {
   "cell_type": "code",
   "execution_count": 168,
   "metadata": {},
   "outputs": [
    {
     "data": {
      "text/plain": [
       "WordEmbAvg(\n",
       "  (embedding): Embedding(32168, 32)\n",
       "  (linear1): Linear(in_features=32, out_features=25, bias=True)\n",
       "  (linear2): Linear(in_features=25, out_features=1, bias=True)\n",
       "  (relu): ReLU()\n",
       "  (drop_layer): Dropout(p=0.75, inplace=False)\n",
       ")"
      ]
     },
     "execution_count": 168,
     "metadata": {},
     "output_type": "execute_result"
    }
   ],
   "source": [
    "best_simple_model"
   ]
  },
  {
   "cell_type": "code",
   "execution_count": 142,
   "metadata": {},
   "outputs": [
    {
     "data": {
      "text/plain": [
       "1.0"
      ]
     },
     "execution_count": 142,
     "metadata": {},
     "output_type": "execute_result"
    }
   ],
   "source": [
    "all_eval[(all_eval['metric'] == 'precision')]['dev_prec'].max()"
   ]
  },
  {
   "cell_type": "code",
   "execution_count": 143,
   "metadata": {
    "scrolled": true
   },
   "outputs": [
    {
     "data": {
      "text/html": [
       "<div>\n",
       "<style scoped>\n",
       "    .dataframe tbody tr th:only-of-type {\n",
       "        vertical-align: middle;\n",
       "    }\n",
       "\n",
       "    .dataframe tbody tr th {\n",
       "        vertical-align: top;\n",
       "    }\n",
       "\n",
       "    .dataframe thead th {\n",
       "        text-align: right;\n",
       "    }\n",
       "</style>\n",
       "<table border=\"1\" class=\"dataframe\">\n",
       "  <thead>\n",
       "    <tr style=\"text-align: right;\">\n",
       "      <th></th>\n",
       "      <th>Unnamed: 0</th>\n",
       "      <th>architecture</th>\n",
       "      <th>embeddings</th>\n",
       "      <th>hidden</th>\n",
       "      <th>dropouts</th>\n",
       "      <th>learning_rate</th>\n",
       "      <th>epochs</th>\n",
       "      <th>dev_acc</th>\n",
       "      <th>dev_prec</th>\n",
       "      <th>dev_recall</th>\n",
       "      <th>metric</th>\n",
       "      <th>model_type</th>\n",
       "      <th>num_layers</th>\n",
       "      <th>bidirectional</th>\n",
       "    </tr>\n",
       "  </thead>\n",
       "  <tbody>\n",
       "    <tr>\n",
       "      <th>88</th>\n",
       "      <td>88</td>\n",
       "      <td>29</td>\n",
       "      <td>32</td>\n",
       "      <td>25.000000</td>\n",
       "      <td>0.75</td>\n",
       "      <td>0.0001</td>\n",
       "      <td>10</td>\n",
       "      <td>0.881356</td>\n",
       "      <td>1.0</td>\n",
       "      <td>0.125</td>\n",
       "      <td>precision</td>\n",
       "      <td>SimpleNN</td>\n",
       "      <td>NaN</td>\n",
       "      <td>NaN</td>\n",
       "    </tr>\n",
       "    <tr>\n",
       "      <th>991</th>\n",
       "      <td>91</td>\n",
       "      <td>30</td>\n",
       "      <td>32</td>\n",
       "      <td>0.666667</td>\n",
       "      <td>0.75</td>\n",
       "      <td>0.0100</td>\n",
       "      <td>10</td>\n",
       "      <td>0.881356</td>\n",
       "      <td>1.0</td>\n",
       "      <td>0.125</td>\n",
       "      <td>precision</td>\n",
       "      <td>RNN</td>\n",
       "      <td>2.0</td>\n",
       "      <td>True</td>\n",
       "    </tr>\n",
       "    <tr>\n",
       "      <th>994</th>\n",
       "      <td>94</td>\n",
       "      <td>31</td>\n",
       "      <td>32</td>\n",
       "      <td>0.666667</td>\n",
       "      <td>0.75</td>\n",
       "      <td>0.0001</td>\n",
       "      <td>10</td>\n",
       "      <td>0.881356</td>\n",
       "      <td>1.0</td>\n",
       "      <td>0.125</td>\n",
       "      <td>precision</td>\n",
       "      <td>RNN</td>\n",
       "      <td>2.0</td>\n",
       "      <td>True</td>\n",
       "    </tr>\n",
       "    <tr>\n",
       "      <th>1060</th>\n",
       "      <td>160</td>\n",
       "      <td>53</td>\n",
       "      <td>64</td>\n",
       "      <td>0.666667</td>\n",
       "      <td>0.75</td>\n",
       "      <td>0.0001</td>\n",
       "      <td>10</td>\n",
       "      <td>0.881356</td>\n",
       "      <td>1.0</td>\n",
       "      <td>0.125</td>\n",
       "      <td>precision</td>\n",
       "      <td>RNN</td>\n",
       "      <td>1.0</td>\n",
       "      <td>False</td>\n",
       "    </tr>\n",
       "    <tr>\n",
       "      <th>1111</th>\n",
       "      <td>211</td>\n",
       "      <td>70</td>\n",
       "      <td>128</td>\n",
       "      <td>0.333333</td>\n",
       "      <td>0.75</td>\n",
       "      <td>0.0100</td>\n",
       "      <td>10</td>\n",
       "      <td>0.881356</td>\n",
       "      <td>1.0</td>\n",
       "      <td>0.125</td>\n",
       "      <td>precision</td>\n",
       "      <td>RNN</td>\n",
       "      <td>1.0</td>\n",
       "      <td>True</td>\n",
       "    </tr>\n",
       "    <tr>\n",
       "      <th>1285</th>\n",
       "      <td>385</td>\n",
       "      <td>128</td>\n",
       "      <td>32</td>\n",
       "      <td>0.333333</td>\n",
       "      <td>0.50</td>\n",
       "      <td>0.0100</td>\n",
       "      <td>10</td>\n",
       "      <td>0.881356</td>\n",
       "      <td>1.0</td>\n",
       "      <td>0.125</td>\n",
       "      <td>precision</td>\n",
       "      <td>LSTM</td>\n",
       "      <td>1.0</td>\n",
       "      <td>False</td>\n",
       "    </tr>\n",
       "    <tr>\n",
       "      <th>1315</th>\n",
       "      <td>415</td>\n",
       "      <td>138</td>\n",
       "      <td>32</td>\n",
       "      <td>0.333333</td>\n",
       "      <td>0.50</td>\n",
       "      <td>0.0100</td>\n",
       "      <td>10</td>\n",
       "      <td>0.881356</td>\n",
       "      <td>1.0</td>\n",
       "      <td>0.125</td>\n",
       "      <td>precision</td>\n",
       "      <td>LSTM</td>\n",
       "      <td>2.0</td>\n",
       "      <td>True</td>\n",
       "    </tr>\n",
       "    <tr>\n",
       "      <th>1327</th>\n",
       "      <td>427</td>\n",
       "      <td>142</td>\n",
       "      <td>32</td>\n",
       "      <td>0.333333</td>\n",
       "      <td>0.75</td>\n",
       "      <td>0.0100</td>\n",
       "      <td>10</td>\n",
       "      <td>0.881356</td>\n",
       "      <td>1.0</td>\n",
       "      <td>0.125</td>\n",
       "      <td>precision</td>\n",
       "      <td>LSTM</td>\n",
       "      <td>2.0</td>\n",
       "      <td>True</td>\n",
       "    </tr>\n",
       "    <tr>\n",
       "      <th>1351</th>\n",
       "      <td>451</td>\n",
       "      <td>150</td>\n",
       "      <td>32</td>\n",
       "      <td>0.666667</td>\n",
       "      <td>0.75</td>\n",
       "      <td>0.0100</td>\n",
       "      <td>10</td>\n",
       "      <td>0.881356</td>\n",
       "      <td>1.0</td>\n",
       "      <td>0.125</td>\n",
       "      <td>precision</td>\n",
       "      <td>LSTM</td>\n",
       "      <td>1.0</td>\n",
       "      <td>True</td>\n",
       "    </tr>\n",
       "    <tr>\n",
       "      <th>1411</th>\n",
       "      <td>511</td>\n",
       "      <td>170</td>\n",
       "      <td>64</td>\n",
       "      <td>0.333333</td>\n",
       "      <td>0.50</td>\n",
       "      <td>0.0100</td>\n",
       "      <td>10</td>\n",
       "      <td>0.881356</td>\n",
       "      <td>1.0</td>\n",
       "      <td>0.125</td>\n",
       "      <td>precision</td>\n",
       "      <td>LSTM</td>\n",
       "      <td>2.0</td>\n",
       "      <td>True</td>\n",
       "    </tr>\n",
       "    <tr>\n",
       "      <th>1459</th>\n",
       "      <td>559</td>\n",
       "      <td>186</td>\n",
       "      <td>64</td>\n",
       "      <td>0.666667</td>\n",
       "      <td>0.50</td>\n",
       "      <td>0.0100</td>\n",
       "      <td>10</td>\n",
       "      <td>0.881356</td>\n",
       "      <td>1.0</td>\n",
       "      <td>0.125</td>\n",
       "      <td>precision</td>\n",
       "      <td>LSTM</td>\n",
       "      <td>2.0</td>\n",
       "      <td>True</td>\n",
       "    </tr>\n",
       "    <tr>\n",
       "      <th>1549</th>\n",
       "      <td>649</td>\n",
       "      <td>216</td>\n",
       "      <td>128</td>\n",
       "      <td>0.666667</td>\n",
       "      <td>0.50</td>\n",
       "      <td>0.0100</td>\n",
       "      <td>10</td>\n",
       "      <td>0.881356</td>\n",
       "      <td>1.0</td>\n",
       "      <td>0.125</td>\n",
       "      <td>precision</td>\n",
       "      <td>LSTM</td>\n",
       "      <td>2.0</td>\n",
       "      <td>False</td>\n",
       "    </tr>\n",
       "    <tr>\n",
       "      <th>1579</th>\n",
       "      <td>679</td>\n",
       "      <td>226</td>\n",
       "      <td>256</td>\n",
       "      <td>0.333333</td>\n",
       "      <td>0.50</td>\n",
       "      <td>0.0100</td>\n",
       "      <td>10</td>\n",
       "      <td>0.881356</td>\n",
       "      <td>1.0</td>\n",
       "      <td>0.125</td>\n",
       "      <td>precision</td>\n",
       "      <td>LSTM</td>\n",
       "      <td>1.0</td>\n",
       "      <td>True</td>\n",
       "    </tr>\n",
       "    <tr>\n",
       "      <th>1753</th>\n",
       "      <td>103</td>\n",
       "      <td>34</td>\n",
       "      <td>Law2Vec</td>\n",
       "      <td>0.333333</td>\n",
       "      <td>0.50</td>\n",
       "      <td>0.0100</td>\n",
       "      <td>10</td>\n",
       "      <td>0.881356</td>\n",
       "      <td>1.0</td>\n",
       "      <td>0.125</td>\n",
       "      <td>precision</td>\n",
       "      <td>LSTM</td>\n",
       "      <td>1.0</td>\n",
       "      <td>True</td>\n",
       "    </tr>\n",
       "    <tr>\n",
       "      <th>1795</th>\n",
       "      <td>145</td>\n",
       "      <td>48</td>\n",
       "      <td>Law2Vec</td>\n",
       "      <td>0.666667</td>\n",
       "      <td>0.50</td>\n",
       "      <td>0.0100</td>\n",
       "      <td>10</td>\n",
       "      <td>0.881356</td>\n",
       "      <td>1.0</td>\n",
       "      <td>0.125</td>\n",
       "      <td>precision</td>\n",
       "      <td>LSTM</td>\n",
       "      <td>1.0</td>\n",
       "      <td>False</td>\n",
       "    </tr>\n",
       "  </tbody>\n",
       "</table>\n",
       "</div>"
      ],
      "text/plain": [
       "      Unnamed: 0  architecture embeddings     hidden  dropouts  learning_rate  \\\n",
       "88            88            29         32  25.000000      0.75         0.0001   \n",
       "991           91            30         32   0.666667      0.75         0.0100   \n",
       "994           94            31         32   0.666667      0.75         0.0001   \n",
       "1060         160            53         64   0.666667      0.75         0.0001   \n",
       "1111         211            70        128   0.333333      0.75         0.0100   \n",
       "1285         385           128         32   0.333333      0.50         0.0100   \n",
       "1315         415           138         32   0.333333      0.50         0.0100   \n",
       "1327         427           142         32   0.333333      0.75         0.0100   \n",
       "1351         451           150         32   0.666667      0.75         0.0100   \n",
       "1411         511           170         64   0.333333      0.50         0.0100   \n",
       "1459         559           186         64   0.666667      0.50         0.0100   \n",
       "1549         649           216        128   0.666667      0.50         0.0100   \n",
       "1579         679           226        256   0.333333      0.50         0.0100   \n",
       "1753         103            34    Law2Vec   0.333333      0.50         0.0100   \n",
       "1795         145            48    Law2Vec   0.666667      0.50         0.0100   \n",
       "\n",
       "      epochs   dev_acc  dev_prec  dev_recall     metric model_type  \\\n",
       "88        10  0.881356       1.0       0.125  precision   SimpleNN   \n",
       "991       10  0.881356       1.0       0.125  precision        RNN   \n",
       "994       10  0.881356       1.0       0.125  precision        RNN   \n",
       "1060      10  0.881356       1.0       0.125  precision        RNN   \n",
       "1111      10  0.881356       1.0       0.125  precision        RNN   \n",
       "1285      10  0.881356       1.0       0.125  precision       LSTM   \n",
       "1315      10  0.881356       1.0       0.125  precision       LSTM   \n",
       "1327      10  0.881356       1.0       0.125  precision       LSTM   \n",
       "1351      10  0.881356       1.0       0.125  precision       LSTM   \n",
       "1411      10  0.881356       1.0       0.125  precision       LSTM   \n",
       "1459      10  0.881356       1.0       0.125  precision       LSTM   \n",
       "1549      10  0.881356       1.0       0.125  precision       LSTM   \n",
       "1579      10  0.881356       1.0       0.125  precision       LSTM   \n",
       "1753      10  0.881356       1.0       0.125  precision       LSTM   \n",
       "1795      10  0.881356       1.0       0.125  precision       LSTM   \n",
       "\n",
       "      num_layers bidirectional  \n",
       "88           NaN           NaN  \n",
       "991          2.0          True  \n",
       "994          2.0          True  \n",
       "1060         1.0         False  \n",
       "1111         1.0          True  \n",
       "1285         1.0         False  \n",
       "1315         2.0          True  \n",
       "1327         2.0          True  \n",
       "1351         1.0          True  \n",
       "1411         2.0          True  \n",
       "1459         2.0          True  \n",
       "1549         2.0         False  \n",
       "1579         1.0          True  \n",
       "1753         1.0          True  \n",
       "1795         1.0         False  "
      ]
     },
     "execution_count": 143,
     "metadata": {},
     "output_type": "execute_result"
    }
   ],
   "source": [
    "all_eval[(all_eval['metric'] == 'precision') & (all_eval['dev_prec'] == 1)]"
   ]
  },
  {
   "cell_type": "code",
   "execution_count": 149,
   "metadata": {
    "scrolled": true
   },
   "outputs": [
    {
     "name": "stdout",
     "output_type": "stream",
     "text": [
      "Test Loss: 0.166 | Test Acc: 79.49% | Test Prec: 18.18% | Test Rec: 11.76%\n"
     ]
    }
   ],
   "source": [
    "tm = TrainingModule(best_simple_model, 0.01, POS_WEIGHT, USE_CUDA, EPOCHS)\n",
    "tm.model = best_simple_model\n",
    "test_loss, test_acc, test_prec, test_rec = tm.evaluate(test_it)\n",
    "print(f'Test Loss: {test_loss:.3f} | Test Acc: {test_acc*100:.2f}% | Test Prec: {test_prec*100:.2f}% | Test Rec: {test_rec*100:.2f}%')"
   ]
  },
  {
   "cell_type": "markdown",
   "metadata": {},
   "source": [
    "## Words with highest norms"
   ]
  },
  {
   "cell_type": "code",
   "execution_count": 163,
   "metadata": {},
   "outputs": [],
   "source": [
    "norms = torch.norm(best_simple_model.embedding.weight, p=2, dim=1, keepdim=True).data.squeeze()\n",
    "highest_10 = norms.argsort()[-10:]"
   ]
  },
  {
   "cell_type": "code",
   "execution_count": 164,
   "metadata": {},
   "outputs": [
    {
     "name": "stdout",
     "output_type": "stream",
     "text": [
      "cr02038\n",
      "spectranetics\n",
      "synthe\n",
      "exhibits(2\n",
      "deferred\n",
      "occlusive\n",
      "cr290\n",
      "outreach\n",
      "uncle\n",
      "lost\n"
     ]
    }
   ],
   "source": [
    "for i in highest_10:\n",
    "    print(TEXT.vocab.itos[i])"
   ]
  }
 ],
 "metadata": {
  "kernelspec": {
   "display_name": "adv-ml",
   "language": "python",
   "name": "adv-ml"
  },
  "language_info": {
   "codemirror_mode": {
    "name": "ipython",
    "version": 3
   },
   "file_extension": ".py",
   "mimetype": "text/x-python",
   "name": "python",
   "nbconvert_exporter": "python",
   "pygments_lexer": "ipython3",
   "version": "3.6.9"
  }
 },
 "nbformat": 4,
 "nbformat_minor": 4
}
